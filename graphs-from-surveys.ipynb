{
 "cells": [
  {
   "cell_type": "markdown",
   "id": "b5be51b1-643a-4097-9397-4598d4237d76",
   "metadata": {},
   "source": [
    "# Inferring graphs from survey data\n",
    "\n",
    "In this notebook we discuss a simple method for representing survey data using graphs. This is where the [_surveygraph_](https://github.com/surveygraph) package comes in.\n",
    "\n",
    "We assume users have a basic knowledge of R and graphs. In particular, we will be working with the _igraph_ package in order to visualise and analyse the graph data produced by _surveygraph_. An introduction to R and _igraph_ can be found on the _surveygraph_ [Github page](https://github.com/surveygraph/surveygraph-tutorials)."
   ]
  },
  {
   "cell_type": "markdown",
   "id": "1e69b10e-5d64-424c-8c7f-adebc51adf49",
   "metadata": {},
   "source": [
    "## Similarity measure"
   ]
  },
  {
   "cell_type": "markdown",
   "id": "3ee755ec-0bb8-49ec-ad13-45bb2afad04a",
   "metadata": {},
   "source": [
    "The main idea in this method is to compare the responses of pairs of individuals, and come up with a measure of their similarity. We define similarity as a number between 0 and 1 measuring the distance between individual responses."
   ]
  },
  {
   "cell_type": "markdown",
   "id": "0d2b4538-f80f-4190-8d54-f4318701d989",
   "metadata": {},
   "source": [
    "### Respondent similarity"
   ]
  },
  {
   "cell_type": "markdown",
   "id": "c663439c-4f34-48e0-b60d-0bb54bc6beab",
   "metadata": {},
   "source": [
    "\n",
    "\n",
    "As a very simple example, let's consider the following survey where individuals respond to a single statement on a five-point Likert scale. Suppose the statement is _I enjoy programming in the R language_, with 1 being strongly disagree, and 5 being strongly agree. We refer to this question as _item one_ in this survey.\n",
    "\n",
    "|id|item one|\n",
    "|:-|:-|\n",
    "|_Sam_|4|\n",
    "|_Ana_|5|\n",
    "|_Caoimhe_|4|\n",
    "|_Paul_|2|\n",
    "|_Megan_|1|\n",
    "|_David_|3|\n",
    "\n",
    "A simple measure of similarity uses the normalised difference between the users' responses. On an L-point Likert scale, these differences take the values 0, 1, 2, ..., L - 1. To force these differences within the range 0 to 1, we divide, or normalise the difference by L - 1. If we were to leave it at that, a normalised difference of 0 mean individuals respond identically, and a difference of 1 means they are as far apart as possible. Since we want a positive measure of similarity, we subtract the normalised difference from 1.\n",
    "\n",
    "Let's apply this to the above survey. Consider Sam and Ana, whose responses are 4 and 5, respectively. The difference between their responses is 1. The normalised difference is 0.25, meaning their similarity is 0.75."
   ]
  },
  {
   "cell_type": "markdown",
   "id": "763deb15-c616-423b-b982-5e5587030e61",
   "metadata": {},
   "source": [
    "The idea simply is to treat this matrix as a complete weighted graph. The weighted neighbour list corresponding to the above table is"
   ]
  },
  {
   "cell_type": "markdown",
   "id": "ca1f2804-f36b-4058-a03d-71335f727595",
   "metadata": {},
   "source": [
    "<div class='sidenote-cell'>\n",
    "We can formalise this measure as follows. For a given item on an $L$-point Likert scale, if $r_u$ and $r_v$ are the responses of individuals $u$ and $v$, respectively, the similarity $s$ between $u$ and $v$ is given by \n",
    "\\begin{equation}\n",
    "    s = 1 - \\dfrac{|r_u - r_v|}{L - 1}.\n",
    "\\end{equation}\n",
    "</div>"
   ]
  },
  {
   "cell_type": "markdown",
   "id": "db0a19b8-bb19-48cf-a4b5-b61dff4ec02d",
   "metadata": {},
   "source": [
    "By comparing each pair of respondents in the above example, we produce a symmetric table of similarities as follows.\n",
    "\n",
    "||_Sam_|_Ana_|_Caoimhe_|_Paul_|_Megan_|_David_|\n",
    "|:-|:-|:-|:-|:-|:-|:-|\n",
    "|_Sam_|-| 0.75| 1.0| 0.5| 0.25| 0.75|\n",
    "|_Ana_| 0.75|-| 0.75| 0.25| 0.0| 0.5|\n",
    "|_Caoimhe_| 1.0| 0.75|-| 0.5| 0.25| 0.75|\n",
    "|_Paul_| 0.5| 0.25| 0.5|-| 0.75| 0.5|\n",
    "|_Megan_|0.25|0.0|0.25|0.75|-|0.5|\n",
    "|_David_|0.75|0.5|0.75|0.5|0.5|-|"
   ]
  },
  {
   "cell_type": "markdown",
   "id": "4ecfc4b9-ee82-4d39-8ec8-ea4606059069",
   "metadata": {},
   "source": [
    "Trivially, we can express this as complete weighted graph, in which nodes are survey respondents, and edge weights are the similarity scores of adjacent nodes. Rewriting the above table in neighbour list format gives\n",
    "\n",
    "|||||||\n",
    "|:-|:-|:-|:-|:-|:-|\n",
    "|_Sam_|_Ana_ 0.75|_Caoimhe_ 1.0|_Paul_ 0.5|_Megan_ 0.25|_David_ 0.75|\n",
    "|_Ana_|_Sam_ 0.75|_Caoimhe_ 0.75|_Paul_ 0.25|_Megan_ 0.0|_David_ 0.5|\n",
    "|_Caoimhe_|_Sam_ 1.0|_Ana_ 0.75|_Paul_ 0.5|_Megan_ 0.25|_David_ 0.75|\n",
    "|_Paul_|_Sam_ 0.5|_Ana_ 0.25|_Caoimhe_ 0.5|_Megan_ 0.75|_David_ 0.5|\n",
    "|_Megan_|_Sam_ 0.5|_Ana_ 0.25|_Caoimhe_ 0.5|_Paul_ 0.75|_David_ 0.5|\n",
    "|_David_|_Sam_ 0.5|_Ana_ 0.25|_Caoimhe_ 0.5|_Paul_ 0.75|_Megan_ 0.5|"
   ]
  },
  {
   "cell_type": "markdown",
   "id": "02d8e5eb-bc3a-4a78-807f-ae5ffd6ca678",
   "metadata": {},
   "source": [
    "### Item similarity"
   ]
  },
  {
   "cell_type": "markdown",
   "id": "ce9457bd-db6f-4653-b776-7724da442a2d",
   "metadata": {},
   "source": [
    "...we call this the symbolic layer."
   ]
  },
  {
   "cell_type": "markdown",
   "id": "9c9beb1b-350a-48e6-b450-36e8885f1b7d",
   "metadata": {},
   "source": [
    "### Uncertainty"
   ]
  },
  {
   "cell_type": "markdown",
   "id": "cc8b4fa2-2b0d-4f50-8227-6bcf76cc9e4e",
   "metadata": {},
   "source": [
    "The original paper did not address uncertainty around the edges, nor have any works since. A simple technique is currently in beta in the _surveygraph_ package."
   ]
  },
  {
   "cell_type": "markdown",
   "id": "a2c222a4-004b-4b57-aba2-456ff1a716a3",
   "metadata": {},
   "source": [
    "## Model survey data"
   ]
  },
  {
   "cell_type": "markdown",
   "id": "5ae1ac69-883f-405c-a2e3-210c19dea042",
   "metadata": {},
   "source": [
    "The idea is to use this to discover clusters of individuals with similar attitudes, for example if respondents are polarised in some way."
   ]
  },
  {
   "cell_type": "markdown",
   "id": "d3ad213f-7f9c-4302-97fe-7dd3d2744b9e",
   "metadata": {},
   "source": [
    "## Thresholding respondent similarity"
   ]
  },
  {
   "cell_type": "code",
   "execution_count": 33,
   "id": "c1802254-b107-4f1b-b082-7dc3f086ede3",
   "metadata": {},
   "outputs": [
    {
     "data": {
      "text/html": [
       "\n",
       "<style>\n",
       "  .sidenote-cell {\n",
       "    background-color: lightblue;\n",
       "    padding: 10px;\n",
       "    width: calc(100% + 40px);\n",
       "    margin-left: -10px;\n",
       "    box-sizing: border-box;\n",
       "    overflow-x: hidden;\n",
       "  }\n",
       "</style>\n"
      ]
     },
     "metadata": {},
     "output_type": "display_data"
    }
   ],
   "source": [
    "# define custom CSS styles\n",
    "customcss <- \"\n",
    "<style>\n",
    "  .sidenote-cell {\n",
    "    background-color: lightblue;\n",
    "    padding: 10px;\n",
    "    width: calc(100% + 40px);\n",
    "    margin-left: -10px;\n",
    "    box-sizing: border-box;\n",
    "    overflow-x: hidden;\n",
    "  }\n",
    "</style>\n",
    "\"\n",
    "\n",
    "# display the custom CSS styles\n",
    "IRdisplay::display_html(customcss)"
   ]
  },
  {
   "cell_type": "code",
   "execution_count": null,
   "id": "b3c5145d-d0d4-4192-9b23-b55ce234a4d1",
   "metadata": {},
   "outputs": [],
   "source": []
  }
 ],
 "metadata": {
  "kernelspec": {
   "display_name": "R",
   "language": "R",
   "name": "ir"
  },
  "language_info": {
   "codemirror_mode": "r",
   "file_extension": ".r",
   "mimetype": "text/x-r-source",
   "name": "R",
   "pygments_lexer": "r",
   "version": "4.4.0"
  }
 },
 "nbformat": 4,
 "nbformat_minor": 5
}

{
 "cells": [
  {
   "cell_type": "markdown",
   "id": "b5be51b1-643a-4097-9397-4598d4237d76",
   "metadata": {},
   "source": [
    "# Inferring graphs from surveys\n",
    "\n",
    "In this notebook we discuss a simple method for representing survey data using graphs. This is where the [_surveygraph_](https://github.com/surveygraph) package comes in.\n",
    "\n",
    "We assume users have a basic knowledge of R and graphs. In particular, we will be working with the _igraph_ package in order to visualise and analyse the graph data produced by _surveygraph_. An introduction to R and _igraph_ can be found on the _surveygraph_ [Github page](https://github.com/surveygraph/surveygraph-tutorials)."
   ]
  },
  {
   "cell_type": "markdown",
   "id": "1e69b10e-5d64-424c-8c7f-adebc51adf49",
   "metadata": {},
   "source": [
    "## Similarity measure"
   ]
  },
  {
   "cell_type": "markdown",
   "id": "a2c222a4-004b-4b57-aba2-456ff1a716a3",
   "metadata": {},
   "source": [
    "## Model survey data"
   ]
  },
  {
   "cell_type": "markdown",
   "id": "0e94ebc8-ee77-4f79-9a66-dbd1030e864b",
   "metadata": {},
   "source": [
    "## Agent projection"
   ]
  },
  {
   "cell_type": "markdown",
   "id": "954d411b-e925-48be-8b68-dbd109335614",
   "metadata": {},
   "source": [
    "## Symbolic projection"
   ]
  },
  {
   "cell_type": "markdown",
   "id": "d3ad213f-7f9c-4302-97fe-7dd3d2744b9e",
   "metadata": {},
   "source": [
    "## Thresholding respondent similarity"
   ]
  }
 ],
 "metadata": {
  "kernelspec": {
   "display_name": "R",
   "language": "R",
   "name": "ir"
  },
  "language_info": {
   "codemirror_mode": "r",
   "file_extension": ".r",
   "mimetype": "text/x-r-source",
   "name": "R",
   "pygments_lexer": "r",
   "version": "4.4.0"
  }
 },
 "nbformat": 4,
 "nbformat_minor": 5
}

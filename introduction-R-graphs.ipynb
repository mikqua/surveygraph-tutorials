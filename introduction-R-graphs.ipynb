{
 "cells": [
  {
   "cell_type": "markdown",
   "id": "fd4efa6c-1de7-4cd3-8723-13203f08941c",
   "metadata": {},
   "source": [
    "# Introduction to R\n",
    "\n",
    "In this very short workshop we will assume that people have a basic knowledge of R. If you're new to R, there are many excellent free resources out there, such as the books\n",
    "\n",
    "* Grolemund, G. (2014). Hands-on programming with R. O'Reilly. [Companion website.](https://rstudio-education.github.io/hopr/)\n",
    "* Wickham, H., & Grolemund, G. (2016). R for data science: Import, tidy, transform, visualize, and model data (First edition). O’Reilly. [Companion Website.](https://r4ds.hadley.nz/)\n",
    "\n",
    "If you're following this tutorial, chances are you have already visited the [Github repository](https://github.com/surveygraph) for surveygraph, where we maintain our [tutorial](https://github.com/surveygraph/surveygraph-tutorials) materials."
   ]
  },
  {
   "cell_type": "markdown",
   "id": "7f8ebd29-fe6c-47ef-a0b8-b45d9c9d9117",
   "metadata": {},
   "source": [
    "## R environments\n",
    "\n",
    "R is an interpreted language, which means that the language itself requires some sort of application to execute it before it is useful. There are several such applications, each with its pros and cons.\n",
    "\n",
    "In this workshop I'll be working from what's called a jupyter notebook. The following are different ways of interfacing with the R language, meaning the underlying language and syntax is the same, we're just reading and writing it in different applications."
   ]
  },
  {
   "cell_type": "markdown",
   "id": "e581a12a-7793-4d64-bb96-1c6ff9b37626",
   "metadata": {},
   "source": [
    "### Jupyter notebooks with an R kernel\n",
    "\n",
    "Great for exposition, [Jupyter notebooks](https://jupyter.org/try) (or JupyterLab) allow a readable mix of code, text, and figures. Text can be formatted in markdown, headings, emphasis, lists, tables, hyperlinks. Cell types, markdown and raw. Keyboard shortcuts. Need to install R and jupyter, and configure with the R package _IRkernel_. Runs locally in a web browser (Chrome, Safari, Firefox etc), but can run on cloud platforms such as google collab. This is a good option if you're really struggling to install everything on your machine. File type is ipynb, similar to json, but can export to other formats. The table of contents is handy and helps to jump between sections.\n",
    "\n",
    "If using a mouse, click to select a cell, double click to edit the contents of a cell. Shift + enter to execute the contents of a cell. The output of a cell, if there is any, will appear directly below the cell. Arrow keys can be used to select cells, and the enter key enters edit mode. "
   ]
  },
  {
   "cell_type": "markdown",
   "id": "1182211c-b655-494c-84ba-a31549f35919",
   "metadata": {},
   "source": [
    "### Rstudio\n",
    "\n",
    "Probably the most well known."
   ]
  },
  {
   "cell_type": "markdown",
   "id": "0c43e513-52d5-47a1-953c-0ef8d14c648c",
   "metadata": {},
   "source": [
    "### Shiny apps\n",
    "\n",
    "These are handy."
   ]
  },
  {
   "cell_type": "markdown",
   "id": "22c78d99-5070-4d9f-863c-4cbef6d3ffa6",
   "metadata": {},
   "source": [
    "### R interpreter in a shell\n",
    "\n",
    "The most bare-bones if you are familiar with the command line (especially macos and linux systems)."
   ]
  },
  {
   "cell_type": "markdown",
   "id": "e6aa6e2b-50e9-41d7-bd4a-edc3fd3af813",
   "metadata": {},
   "source": [
    "### R scripts\n",
    "\n",
    "These are human readable text files with the extension `*.R` that can be run by other programs, such as Rstudio or command line."
   ]
  },
  {
   "cell_type": "markdown",
   "id": "ced8d875-7cec-47b2-9fa9-c3012eec83d8",
   "metadata": {},
   "source": [
    "## Getting information about objects\n",
    "One of the most terrifying things about R for beginners is that objects are invisible and inscrutable: so you don't know automatically what objects exist and, even if you do, it's not clear from their names what they are or what their structure is. (And, for this reason, it is important to use meaningful and descriptive names for objects).\n",
    "\n",
    "If you are using RStudio you can view the objects and their structure in various panels in the graphical interface. But if you are in a Jupyter notebook or base R you will need some commands.\n",
    "\n",
    "Let's create a couple of objects."
   ]
  },
  {
   "cell_type": "code",
   "execution_count": 14,
   "id": "53548e11-25ed-4b74-a4e1-2228c3de6406",
   "metadata": {},
   "outputs": [],
   "source": [
    "var1 <- 256\n",
    "var2 <- \"hello world\""
   ]
  },
  {
   "cell_type": "markdown",
   "id": "174df78d-ce7c-4481-8d48-5012ba14b69d",
   "metadata": {},
   "source": [
    "### Listing the objects in an R environment\n",
    "\n",
    "`ls()` will list all of the objects in the working environment. Don't worry if there are objects you don't recognize: sometimes there are a few automatically generated ones, depending on the platform you are using. Of course, one of the advantages of scripting is that the names of the objects are also available in the script you have written, so more importantly:"
   ]
  },
  {
   "cell_type": "code",
   "execution_count": 12,
   "id": "0710961b-97da-4bb0-a9a7-87da60bf2ffe",
   "metadata": {},
   "outputs": [
    {
     "data": {
      "text/html": [
       "<style>\n",
       ".list-inline {list-style: none; margin:0; padding: 0}\n",
       ".list-inline>li {display: inline-block}\n",
       ".list-inline>li:not(:last-child)::after {content: \"\\00b7\"; padding: 0 .5ex}\n",
       "</style>\n",
       "<ol class=list-inline><li>'a_new_variable'</li><li>'var1'</li><li>'var2'</li><li>'var2yougettheidea'</li></ol>\n"
      ],
      "text/latex": [
       "\\begin{enumerate*}\n",
       "\\item 'a\\_new\\_variable'\n",
       "\\item 'var1'\n",
       "\\item 'var2'\n",
       "\\item 'var2yougettheidea'\n",
       "\\end{enumerate*}\n"
      ],
      "text/markdown": [
       "1. 'a_new_variable'\n",
       "2. 'var1'\n",
       "3. 'var2'\n",
       "4. 'var2yougettheidea'\n",
       "\n",
       "\n"
      ],
      "text/plain": [
       "[1] \"a_new_variable\"    \"var1\"              \"var2\"             \n",
       "[4] \"var2yougettheidea\""
      ]
     },
     "metadata": {},
     "output_type": "display_data"
    }
   ],
   "source": [
    "ls()"
   ]
  },
  {
   "cell_type": "markdown",
   "id": "1e9fdebf-f44f-47ad-b295-826d75d01ec0",
   "metadata": {},
   "source": [
    "### Returning the type of an object\n",
    "\n",
    "The function `typeof()` returns the \"type\" of an object. Types are integers, doubles, floats, characters, logical.\n",
    "\n",
    "Each type allows `NA`, which is important in survey data, used to represent missing data."
   ]
  },
  {
   "cell_type": "code",
   "execution_count": 51,
   "id": "9a423c41-0e89-4755-b0e0-405524070ffc",
   "metadata": {},
   "outputs": [
    {
     "data": {
      "text/html": [
       "'character'"
      ],
      "text/latex": [
       "'character'"
      ],
      "text/markdown": [
       "'character'"
      ],
      "text/plain": [
       "[1] \"character\""
      ]
     },
     "metadata": {},
     "output_type": "display_data"
    },
    {
     "data": {
      "text/html": [
       "'logical'"
      ],
      "text/latex": [
       "'logical'"
      ],
      "text/markdown": [
       "'logical'"
      ],
      "text/plain": [
       "[1] \"logical\""
      ]
     },
     "metadata": {},
     "output_type": "display_data"
    },
    {
     "data": {
      "text/html": [
       "'double'"
      ],
      "text/latex": [
       "'double'"
      ],
      "text/markdown": [
       "'double'"
      ],
      "text/plain": [
       "[1] \"double\""
      ]
     },
     "metadata": {},
     "output_type": "display_data"
    }
   ],
   "source": [
    "vec1 <- c('h', 'e', 'l', 'l', 'o')\n",
    "typeof(vec1)\n",
    "\n",
    "vec2 <- c(NA, FALSE, TRUE, TRUE)\n",
    "typeof(vec2)\n",
    "\n",
    "vec3 <- c(NA, 1, 4, 6.9)\n",
    "typeof(vec3)"
   ]
  },
  {
   "cell_type": "markdown",
   "id": "48a59521-263a-45a3-9253-83b20446963f",
   "metadata": {},
   "source": [
    "### Returning the structure of an object\n",
    "\n",
    "`str()` will summarise the structure of the object. e.g. Is it a character or integer? A vector or an array? This is especially useful for checking the structure of objects returned from functions.\n",
    "\n",
    "Let's assign a new object, and check that it appears in the environment."
   ]
  },
  {
   "cell_type": "code",
   "execution_count": 13,
   "id": "b99eb4dc-2e4a-4ab2-b59b-760198493a0d",
   "metadata": {},
   "outputs": [
    {
     "name": "stdout",
     "output_type": "stream",
     "text": [
      " num 256\n",
      " chr \"hello world\"\n"
     ]
    }
   ],
   "source": [
    "str(var1)\n",
    "str(var2)"
   ]
  },
  {
   "cell_type": "markdown",
   "id": "d2b36c3a-89f1-40a9-8c92-596b750efdb2",
   "metadata": {},
   "source": [
    "## Types of R objects\n",
    "\n",
    "We give an introduction to the types of data structures, or objects, that are most useful to the surveygraph workflow. The different types of R objects that we'll use are vectors and dataframes. They contain elements whose types are the same, such as integers, characters, floating points. Vectors are indexed from 1. "
   ]
  },
  {
   "cell_type": "markdown",
   "id": "ce62c0b5-472c-49ba-ad84-dce824e8b84f",
   "metadata": {},
   "source": [
    "### Integer, double and character types\n",
    "\n",
    "These are the basic types of data"
   ]
  },
  {
   "cell_type": "code",
   "execution_count": 15,
   "id": "87bb39ab-38a5-4e49-a49f-2e6ad1cb5073",
   "metadata": {},
   "outputs": [],
   "source": [
    "var1 <- 35\n",
    "# typeof(var1)\n",
    "var2 <- as.integer(34)\n",
    "# typeof(var2)"
   ]
  },
  {
   "cell_type": "markdown",
   "id": "d1d8a4b5-9871-49db-b2c4-fd4fca48caf9",
   "metadata": {},
   "source": [
    "Each data type can take the value NA, which we will frequently see in survey data."
   ]
  },
  {
   "cell_type": "code",
   "execution_count": 17,
   "id": "57355329-7413-45f9-9711-4260a7bef46c",
   "metadata": {},
   "outputs": [],
   "source": [
    "var3 <- NA\n",
    "# var3"
   ]
  },
  {
   "cell_type": "markdown",
   "id": "cd81fd5e-221c-4058-949c-e2e5b904fe48",
   "metadata": {},
   "source": [
    "### Vectors\n",
    "\n",
    "Vectors build upon the basic types."
   ]
  },
  {
   "cell_type": "code",
   "execution_count": 4,
   "id": "e8ba827f-f3d4-4910-8218-86803bc4b6dd",
   "metadata": {},
   "outputs": [],
   "source": [
    "vec1 <- c(1, 2, 2, 3)\n",
    "#str(vec1)"
   ]
  },
  {
   "cell_type": "code",
   "execution_count": 3,
   "id": "ba21f857-553b-4a1e-9728-053ee608e695",
   "metadata": {},
   "outputs": [],
   "source": [
    "vec2 <- c('a', 1, 3)\n",
    "#str(vec2)"
   ]
  },
  {
   "cell_type": "code",
   "execution_count": 5,
   "id": "24092827-7e16-4f74-8ff3-04206df5966c",
   "metadata": {},
   "outputs": [],
   "source": [
    "vec3 <- c(3.14159, 1.0, 2.0)\n",
    "#str(vec3)"
   ]
  },
  {
   "cell_type": "markdown",
   "id": "2c56352b-790b-42f6-ac5e-a9949293cc0f",
   "metadata": {},
   "source": [
    "### Dataframes\n",
    "\n",
    "This is the basic tabular data structure in R, and it is the main data type that we use them in _surveygraph_. The graph visualisation package _igraph_ also reads in dataframes."
   ]
  },
  {
   "cell_type": "code",
   "execution_count": 1,
   "id": "89afa44f-ba24-4f7e-a234-d155aae80801",
   "metadata": {},
   "outputs": [],
   "source": [
    "df1 <- data.frame(c(1, 2, 4), c(1, 3, 9))\n",
    "#df1"
   ]
  },
  {
   "cell_type": "markdown",
   "id": "d431608f-93a8-44dd-bbf3-12162bf2bbc1",
   "metadata": {},
   "source": [
    "Now to give the columns names we write"
   ]
  },
  {
   "cell_type": "code",
   "execution_count": 2,
   "id": "d5f2d670-21af-4b7f-97ae-065669fa0a7e",
   "metadata": {},
   "outputs": [],
   "source": [
    "df1 <- data.frame(col1 = c(1, 2, 4), col2 = c(1, NA, 9))\n",
    "#df1"
   ]
  },
  {
   "cell_type": "markdown",
   "id": "1fc6a1c7-2f3f-4ef3-9b05-65c583fcddc4",
   "metadata": {},
   "source": [
    "## Installing and loading packages\n",
    "\n",
    "In this workshop, every package we need is on the CRAN archive of R packages. There are other way to install packages, but this is the simplest and most convenient. \n",
    "\n",
    "`install.packages()` is a base R function, which we can call to install a package that is on CRAN. The function will return an error if the package name in the parentheses is not hosted on CRAN."
   ]
  },
  {
   "cell_type": "code",
   "execution_count": 23,
   "id": "ac846409-ac66-4702-a3a2-86103d6fee96",
   "metadata": {},
   "outputs": [
    {
     "name": "stderr",
     "output_type": "stream",
     "text": [
      "Installing package into ‘/opt/homebrew/lib/R/4.4/site-library’\n",
      "(as ‘lib’ is unspecified)\n",
      "\n"
     ]
    }
   ],
   "source": [
    "install.packages(\"surveygraph\")"
   ]
  },
  {
   "cell_type": "markdown",
   "id": "98ea0677-d4bf-4f47-bff6-ffd1ba9618da",
   "metadata": {},
   "source": [
    "The message above looks scary due to the red backdrop, but the package has installed correctly. Part of the installation involves compiling C++ source code. In large packages this process can take some time, but _surveygraph_ is pretty lightweight. Installing it should only take a few seconds.\n",
    "\n",
    "On a given computer, a package only needs to be installed once. However, we need to load the package each time we start an R session our interpreter of choice (Rstudio, JupyterLab etc). To do this we call the `library()` function."
   ]
  },
  {
   "cell_type": "code",
   "execution_count": 25,
   "id": "22493e19-7ecd-4fb1-8b0a-b2f7450c6c56",
   "metadata": {},
   "outputs": [],
   "source": [
    "library(\"surveygraph\")"
   ]
  },
  {
   "cell_type": "markdown",
   "id": "0b4951c3-90ef-4d9c-bdcf-b62645643af9",
   "metadata": {},
   "source": [
    "## Data exploration and plotting\n",
    "\n",
    "Most of our visualisation will be done using the igraph package, but before we get to that it's helpful to do basic data exploration in R. This is so-called base R, fancier plots can be produced with packages like _ggplot_, but we won't go into that."
   ]
  },
  {
   "cell_type": "markdown",
   "id": "c07bcd28-988f-4ea6-a56e-73736a50decc",
   "metadata": {},
   "source": [
    "### Loading data\n",
    "\n",
    "Let's read in a dataset that we have on our machine."
   ]
  },
  {
   "cell_type": "markdown",
   "id": "529e6b7d-36bc-44f2-ad17-ae6695e3e993",
   "metadata": {},
   "source": [
    "# Introduction to graphs\n",
    "\n",
    "In this section we take a first look at working with network data in R. We use the term graphs and networks interchangably. Some researchers distinguish between the two by saying that graphs are a purely mathematical object, and that networks are real-world graphs.\n",
    "\n",
    "Let us install and load the _igraph_ package."
   ]
  },
  {
   "cell_type": "markdown",
   "id": "07cc6d3a-71f4-444a-b549-37d7fbeae02c",
   "metadata": {},
   "source": [
    "## Network data and visualisation\n",
    "\n",
    "### Definitions and data format\n",
    "\n",
    "#### graph\n",
    "\n",
    "A graph _G_ = (_V_, _E_) is defined as a set of nodes denoted by _V_, together with a set of edges denoted by _E_. For example, if we define a node set to be _V_ = {_Sam_, _Ana_, _Caoimhe_}, then a valid edge set corresponding to that node set is _E_ = {(_Sam_, _Ana_), (_Ana_, _Caoimhe_)}. Another valid edge set is the empty set E = {}, and the complete graph _E_ = {(_Sam_, _Ana_), (_Ana_, _Caoimhe_), (_Sam_, _Caoimhe_)}, where every possible edge is present.\n",
    "\n",
    "#### node\n",
    "\n",
    "A node is any element of the node set _V_. In the above example, the nodes are _Sam_, _Ana_ and _Caoimhe_. A synonym of node is vertex.\n",
    "\n",
    "#### edge\n",
    "\n",
    "An edge is any element of the edge set _E_. In the above example, the edges are (_Sam_, _Ana_) and (_Ana_, _Caoimhe_). Synonyms of edge are link, arc, tie, or bond.\n",
    "\n",
    "### Visualising with _igraph_"
   ]
  },
  {
   "cell_type": "code",
   "execution_count": 26,
   "id": "8e1ddf48-8fae-416f-99ee-88a562312d86",
   "metadata": {},
   "outputs": [],
   "source": [
    "# install.packages(\"igraph\")\n",
    "library(\"igraph\")"
   ]
  },
  {
   "cell_type": "markdown",
   "id": "a2013cba-9b6d-4521-ac7d-3b6aa6a6785f",
   "metadata": {},
   "source": [
    "The message above looks scary, but we can ignore it. It is telling us that we've loaded a library that introduces a function with the same name as something else in our environment. Since we aren't using these functions, we won't worry too much about them."
   ]
  },
  {
   "cell_type": "code",
   "execution_count": null,
   "id": "7634169e-6fb9-4c35-906a-ab611303362e",
   "metadata": {},
   "outputs": [],
   "source": []
  }
 ],
 "metadata": {
  "kernelspec": {
   "display_name": "R",
   "language": "R",
   "name": "ir"
  },
  "language_info": {
   "codemirror_mode": "r",
   "file_extension": ".r",
   "mimetype": "text/x-r-source",
   "name": "R",
   "pygments_lexer": "r",
   "version": "4.4.0"
  }
 },
 "nbformat": 4,
 "nbformat_minor": 5
}

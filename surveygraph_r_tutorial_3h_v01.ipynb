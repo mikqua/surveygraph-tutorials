{
 "cells": [
  {
   "cell_type": "markdown",
   "id": "f844646f-4fcf-4488-813c-ed3eede37e63",
   "metadata": {
    "id": "f844646f-4fcf-4488-813c-ed3eede37e63"
   },
   "source": [
    "# surveygraph workshop\n",
    "# ICSIH Preconference, Limerick, 2024"
   ]
  },
  {
   "cell_type": "markdown",
   "id": "4db7f04e-1a3f-4f6d-a1f9-015059fde49e",
   "metadata": {
    "id": "4db7f04e-1a3f-4f6d-a1f9-015059fde49e"
   },
   "source": [
    "# Workshop schedule\n",
    "\n",
    "Time|Detail\n",
    "---|---\n",
    "30min|Attitudes as a dynamical social field: introduction to this approach to analysing attitudes as networks\n",
    "30min|R & igraph basics\n",
    "10min|Break\n",
    "30min|Converting surveys to graphs with surveygraph\n",
    "30min|Thresholding & cluster detection\n",
    "10min|Break\n",
    "40min|Application to real data\n",
    "17h00|End"
   ]
  },
  {
   "cell_type": "markdown",
   "id": "2a153490-3091-418f-9a3e-dfade63133e2",
   "metadata": {
    "id": "2a153490-3091-418f-9a3e-dfade63133e2"
   },
   "source": [
    "## Our environment: a Jupyter notebook\n",
    "\n",
    "In this workshop we will work through a Jupyter notebook.\n",
    "\n",
    "This format allows us to combine sequences of text chunks (explanations) and code chunks (demonstrations). Once you have run all the code chunks, you have something like a markdown document which contains all the text, syntax and output in sequence.\n",
    "\n",
    "You can run Jupyter notebooks on your own computer  (see [https://jupyter.org/](https://jupyter.org/)), but for convenience -- and internet allowing -- we will run them in Google Colab.\n",
    "\n",
    "When you have a notebook open in Colab, it will have free cloud computing resources attached called a **kernel**, providing a small CPU, some disk space and memory. You can usually specify which language to use (R, Python etc). These resources are usually volatile -- they resources are assigned temporarily and the workspace will reset if you are away for a while.\n",
    "**If this happens, you will have to re-run key code chunks (like loading libraries) before continuing.**\n",
    "\n",
    "The chunk you are reading now is a **markdown chunk**. If you double click it you can see the source. There are some codes for headings, bold etc. that render on display.\n",
    "\n",
    "**Code chunks** can be run by clicking the \"play\" arrow; they look like this (an image for demonstration only):\n",
    "\n",
    "<img src=\"data:image/png;base64,iVBORw0KGgoAAAANSUhEUgAAAMkAAAArCAMAAADllFy+AAAAvVBMVEUAAAAAAE8AAIAAUqAAfqAAfsAEMfoEavkEjPlCQkJNTU1PAABPAE9PAIBPUqBPoaBPoeBSMfpSrPhYWFhZWVljY2NkZGSAAACAAE+AAICAfsCAwfeCMfqCyPeFhYWGhoaRkZGgUgCgUk+gwaCg3MCg3Pehavqzs7O+vr6/v7/AfgDA98DA9/fBjPrB9/fV1dXgoU/grPrg3KDg9/fs7Oz3wYD3yPr33KD34fn398D39+D39/f39/j39/n////j8N4VAAACcElEQVRo3u2Y/XvSMBDHAxVdxZc6oEyrsKrbMHbYWQuWTP//P8tccknatfRF8YfsyT0PfQnZ5T7J9y4Z5Lc0Zr0RR+JIHIkjeUQkN+vQ98P1F9tJNnMfbb6xmuTSL9mlxSQVEGtQGkg2/gPrI7CURI3t99cfhoRziKO+XX+933aRzGT8C00yH0xiAro9K/eiwelI2N2zrJ3kBuP/sRq0KM0B7Z5u/xsJuz1vJ1EAnOk5Pq5qA378vCTjBAamZHTFiiVcdTMlYIHRVspfI3ElZKJeWe59n8LrIRat4IWYpc2fxKNPUy8TzTADufw2DSj2+vlm20qy0CTsGz6H9anjgdMJxBDAnUdxcSWbD3FgphbH2r9MymuSc9icO8g59f4FOgrwY0hIRMdfL4TDYhmx4p38y5QPmXpZLQfrJL4hYUphjSLIvewQT8Rdk8CcTQzJTkp5P41KJIIVHoGG9yzeJsIJ+CmTeBkNuNv9q0w6xfmCR5yairw6SNZtJOPEDNxMopKSC0PMIpJESOIhJ4juKEmuNAmaHVVI7s56qyvEMnZ8TdpJdqa8UAjbrAlcFAlq7xiJ7MVSrqxha9Ir4/mAxbIs6yqJzJ1KTgppS31DTCJXZIxCokAEKUNqJDCOckAra9KVJ7oKr49XYag2pJTZQgGQ7YoE68399bkqXeOE6SqVCpkoEu2NNwe0RqJKGtxeV9akq3apnTHUILO/L/sP9pPTWtd+0ue00n8Dq+7xJ7XOPb7PCbI/ycBzF0pRVql/Pnc9olM9F9hM54jd/2kBy4rvK4uVNRzutxVH4kgciSNxJI6kmcR+cySOxJE4EhvtD90fW4qxUMhtAAAAAElFTkSuQmCC\"/>\n",
    "\n",
    "If you hover somewhere near the left of the chunk, you should see a clickable \"play button.\" Click it to run the chunk.\n",
    "\n",
    "The first time you run a code chunk there will be a delay while resources are assigned and a virtual machine is spun up.\n",
    "Once a kernel is assigned, it will process the code  and display the output below."
   ]
  },
  {
   "cell_type": "code",
   "execution_count": null,
   "id": "fc847e0c-1489-4d78-a53c-d98ed6478b99",
   "metadata": {
    "colab": {
     "base_uri": "https://localhost:8080/",
     "height": 437
    },
    "id": "fc847e0c-1489-4d78-a53c-d98ed6478b99",
    "outputId": "48f7f4f8-4523-4073-fc2c-a8fd9ac182fd"
   },
   "outputs": [],
   "source": [
    "plot(1:100,1:100)\n",
    "#Run this code chunk by clicking the \"play\" icon to the left.\n",
    "#It will plot the sequence of integers from 1 to 100 on the X access against the same sequence on the Y axis."
   ]
  },
  {
   "cell_type": "markdown",
   "id": "74dc2ba9-8112-416b-8bb7-a10f7c67027e",
   "metadata": {
    "id": "74dc2ba9-8112-416b-8bb7-a10f7c67027e"
   },
   "source": [
    "Once you've run the chunk, the output is included in the notebook. You can reset the output using the menu options.\n",
    "\n",
    "**Feel free to edit the code and run it again to see what happens. This will only affect your own workbook, and if you break anything, you can just refresh the browser and start again with a clean version.**"
   ]
  },
  {
   "cell_type": "markdown",
   "id": "4bed909e-efe6-454f-909b-bed57024f28c",
   "metadata": {
    "id": "4bed909e-efe6-454f-909b-bed57024f28c"
   },
   "source": [
    "Once a kernel is assigned, there will be a resource monitor somewhere in the interface, showing the processor and memory useage. Some of the procedures we will run are computationally expensive, so might take a while to process. You can check the state of your virtual machine in the process monitor:\n",
    "\n",
    "\n",
    "<img src=\"data:image/png;base64,iVBORw0KGgoAAAANSUhEUgAAAHUAAAAyCAMAAABVh2RaAAAB+FBMVEUYgDgniEQ1kFFCQkJCQkhCQmxCSE5CUZdCbLBCkM5Dl11IQkJIQmxISFRIUWxIbrBIeLxOY6pObLBOdbZOhMJOkM5UV1RUcoVUh8JUkJ1UkM5UmdVakM5aouFeXl5gdbZghLBghLZghMJgqOFmV5dsWpFsWqRsbLBsjbZsrudsse1ur4JvsINzS0hzY4VzgbZzt9V5Y2Z5Y6p5ruF5uvN/UZeBgYGFbGyJv5qKv5qLlpeLv5uRV1SRyeeRyfORzOGRzP+XUXmXV4WX0/+X1f+dbk6d0/Oex6ukY2Ckvduk3v+qY2CqY3OqZoWq4f+wbEKwbFqwbGywbHOwblqwdU6w5/+2dVq2k2a27f+72cS8gVq88P/Ch0jCh1TC9ufC9v/IkFTOkELO8//S5tjU59rVlmDVomzV/P/V/+fa2trbomzbqGzb8//b///d3d3holrhqGDh05fh4eHh/P/h///i7+bj4+Pk5OTnrmzn05fn287n/P/n///o6Ojtt3Ptunnt/P/t/+ft///w8PDx8fHx9/Pzunnz///39/f5zJH5+f/5/Pr5/+f5///7+/v+/v7/zJH/05f/1Zf/2Kr/4ar/5LD/57D/57b/6rD/7bb/8Lz/89X//NX//OH//Of//O3//PP//Pn//9X//+H//+f//+3///n///8dRHauAAACH0lEQVRYw2NYPhCAYdRWWtuaORBgNF6HgK0teZgRl9dCa1vzOjDFOvKoYmsiMzOLYvHy5ctiZEE89nQgOYEnFCSViU19JnVs1Vw+P0F5+fJZhipACxN5nUEOYKWDrcsncC5fXqeZCrQw0Uqid/lMPXM6+XVJUMREoIWJ9j4RywsMAmluKzMzs1L18inyTYuc4pcnatVpLvaNC6SDX+ulepfnAy1nNgHyZhkVSvTQw9a5Hl5zHKOXL58k3JSouSxWzHkJrWwtRU5NnUKVIr3Lly/29gPyJgqW0MpWbcYUwsGQGYkFUGCrNgNXKxFlk7s1BnAnv2wizlIql8NEWkoMKDeDgnJCtlLR0uXLy+RAWU6uDKdftXWobynEWrilmLa2cjHokGYpcfFaJoewFItfwdbisbQLQi3xdyCtfi0rw5uagNYyYbF0AjMzm0LO8hlquWi2UqmUAFqLxacTOGoWZPHXwLhUt3V5qzaW4AXaunxpmNc09Zp5Udx8bkBb5wXb0bj0h9i6PNEBaGub9PLJ+o3+tiGay+lo63Rdcc+GJf5iosvpY+uSAFAIL19YFS7Q6C9p40IXW+en8dcAbc02Xj7TNMPfYapqEtiCbiyAarYCc45GznKgrbNdIalpeYVMO8hWC0sQtLREpqllK+76NRkLoLmtNGz7D7p+zmj/dTCOSxQNBGCoHQjA0DwQgKFjIABD30AAhv6BAKNlE60BADXEkQGQZkelAAAAAElFTkSuQmCC\"/>\n",
    "     "
   ]
  },
  {
   "cell_type": "markdown",
   "id": "285cecf7-6906-4584-a09c-9805cb0b9b6d",
   "metadata": {
    "id": "285cecf7-6906-4584-a09c-9805cb0b9b6d"
   },
   "source": [
    "# R Basics\n",
    "\n",
    "In this very short workshop we will assume that people have a basic knowledge of R.\n",
    "\n",
    "If you don't, and want to learn more, there are many excellent free resources out there.\n",
    "\n",
    "Two highly recommended books with excellent companion websites:\n",
    "\n",
    "* Grolemund, G. (2014). Hands-on programming with R. O'Reilly. [Companion website.](https://rstudio-education.github.io/hopr/)\n",
    "* Wickham, H., & Grolemund, G. (2016). R for data science: Import, tidy, transform, visualize, and model data (First edition). O’Reilly. [Companion Website.](https://r4ds.hadley.nz/)"
   ]
  },
  {
   "cell_type": "markdown",
   "id": "8a09cb87-1e23-42af-a2f3-26899bab98d9",
   "metadata": {
    "id": "8a09cb87-1e23-42af-a2f3-26899bab98d9"
   },
   "source": [
    "### Packages\n",
    "Base R has very limited functionality. For most tasks, you will need to load additional packages. These are libraries that provide a set of objects (functions, datasets etc.) that will be useful for a particular task.\n",
    "Once you load a package, all the functions in the package will be available to you.\n",
    "\n",
    "\n",
    "\n",
    "In this workshop we will use:\n",
    "* Base R\n",
    "* surveygraph to convert dataframes to networks\n",
    "* igraph to manipulate and visualize networks\n",
    "[Note: You could use any suitable network package to further analyze the networks]\n",
    "Network\n",
    "\n",
    "Analysis Process:||\n",
    "---|---\n",
    "Survey|\n",
    "↓|\n",
    "Preprocessing|\n",
    "↓|\n",
    "convert to networks with surveygraph()\n",
    "Agent Layer|Symbolic layer\n",
    "↓|↓\n",
    "Visualize|Visualize\n",
    "↓|↓\n",
    "Detect communities|\n",
    "↓|↓\n",
    "Visualize|Visualize\n",
    "\n",
    "\n",
    "In this workshop we will try to cover the basic skills required for this workflow.\n",
    "\n"
   ]
  },
  {
   "cell_type": "markdown",
   "id": "dababb42-6839-4369-bad7-419af79a9cd3",
   "metadata": {
    "id": "dababb42-6839-4369-bad7-419af79a9cd3"
   },
   "source": [
    "## Load packages\n",
    "\n",
    "To simplify the loading of packages, the first package we load is a library called pacman(). This will give us access to the function p_load() which allows us to load packages in one step. One of the benefits of pacman for working in a Jupyter notebook is that packages already in memory are not reloaded, saving time.\n",
    "\n",
    "We then load **igraph** for working with networks.\n",
    "\n",
    "We load them all in one code block for your convenience. This might take a while.\n",
    "\n",
    "_Note_: In most environments (jupyter notebooks, Base R etc.), if the R session ends for any reason it will lose all memory of what you have been doing. In this case you will need to run this step again (e.g. after coming back from breaks).   "
   ]
  },
  {
   "cell_type": "code",
   "execution_count": 8,
   "id": "2953e20b-e94a-46fd-954f-7ad483a20469",
   "metadata": {
    "colab": {
     "base_uri": "https://localhost:8080/"
    },
    "id": "2953e20b-e94a-46fd-954f-7ad483a20469",
    "outputId": "fb6fd1a4-c2eb-4100-f6cc-03b0a27352d9"
   },
   "outputs": [],
   "source": [
    "library(\"surveygraph\")"
   ]
  },
  {
   "cell_type": "markdown",
   "id": "48c0cd26-8adc-4539-8e8f-cb84c742da83",
   "metadata": {
    "id": "48c0cd26-8adc-4539-8e8f-cb84c742da83"
   },
   "source": [
    "## Getting information about objects\n",
    "One of the most terrifying things about R for beginners is that objects are invisible and inscrutable: so you don't know automatically what objects exist and, even if you do, it's not clear from their names what they are or what their structure is. (And, for this reason, it is important to use meaningful and descriptive names for objects).\n",
    "\n",
    "If you are using RStudio you can view the objects and their structure in various panels in the graphical interface. But if you are in a Jupyter notebook or base R you will need some commands.\n",
    "\n",
    "### What objects exist?\n",
    "\n",
    "`ls()` will list all of the objects in the working environment. Don't worry if there are objects you don't recognize: sometimes there are a few automatically generated ones, depending on the platform you are using. Of course, one of the advantages of scripting is that the names of the objects are also available in the script you have written, so more importantly:\n",
    "\n",
    "## What is the structure of an object?\n",
    "`str(object_name)` will summarize the structure of the object. e.g. Is it a character or integer? A vector or an array? This is especially useful for checking the structure of objects returned from functions.\n",
    "\n",
    "Let's assign a new object and check that it appears in the environment:"
   ]
  },
  {
   "cell_type": "code",
   "execution_count": 2,
   "id": "d9c906ed-a6a9-426c-9e90-ff06f2142235",
   "metadata": {
    "id": "d9c906ed-a6a9-426c-9e90-ff06f2142235"
   },
   "outputs": [
    {
     "data": {
      "text/html": [
       "'a_new_variable'"
      ],
      "text/latex": [
       "'a\\_new\\_variable'"
      ],
      "text/markdown": [
       "'a_new_variable'"
      ],
      "text/plain": [
       "[1] \"a_new_variable\""
      ]
     },
     "metadata": {},
     "output_type": "display_data"
    }
   ],
   "source": [
    "a_new_variable <- \"A character string\"\n",
    "ls()"
   ]
  },
  {
   "cell_type": "markdown",
   "id": "af49d186-b1ce-409a-82df-6c1e7d2d2af7",
   "metadata": {
    "id": "af49d186-b1ce-409a-82df-6c1e7d2d2af7"
   },
   "source": [
    " And report its structure:"
   ]
  },
  {
   "cell_type": "code",
   "execution_count": 3,
   "id": "afd5120a-2238-4e5d-8f13-d1ac44244680",
   "metadata": {
    "id": "afd5120a-2238-4e5d-8f13-d1ac44244680"
   },
   "outputs": [
    {
     "name": "stdout",
     "output_type": "stream",
     "text": [
      " chr \"A character string\"\n"
     ]
    }
   ],
   "source": [
    "str(a_new_variable)"
   ]
  },
  {
   "cell_type": "markdown",
   "id": "0134e282-a669-45f2-a787-816a2567bcdc",
   "metadata": {
    "id": "0134e282-a669-45f2-a787-816a2567bcdc"
   },
   "source": [
    "\"chr\" means that it is a variable composed of characters (rather than, for example, numbers).\n"
   ]
  },
  {
   "cell_type": "markdown",
   "id": "33076f3a-e242-4007-9261-96da6198db1a",
   "metadata": {
    "id": "33076f3a-e242-4007-9261-96da6198db1a"
   },
   "source": [
    "## Working with vectors -- we really need this for igraph!\n",
    "\n",
    "A lot of things in R are represented as vectors, which are simply sequences of elements, all of the same type.\n",
    "\n",
    "The following sequence is a vector of numbers:\n",
    "\n",
    "|||||\n",
    "|---|---|---|---|\n",
    "|1|2|3|4|\n",
    "\n",
    "\n",
    "In R we can use the `c()` command to define a vector:\n",
    "\n"
   ]
  },
  {
   "cell_type": "code",
   "execution_count": 4,
   "id": "a678995a-6b32-49fd-89ea-2532f2cb1f16",
   "metadata": {
    "id": "a678995a-6b32-49fd-89ea-2532f2cb1f16"
   },
   "outputs": [
    {
     "data": {
      "text/html": [
       "<style>\n",
       ".list-inline {list-style: none; margin:0; padding: 0}\n",
       ".list-inline>li {display: inline-block}\n",
       ".list-inline>li:not(:last-child)::after {content: \"\\00b7\"; padding: 0 .5ex}\n",
       "</style>\n",
       "<ol class=list-inline><li>1</li><li>2</li><li>3</li><li>4</li></ol>\n"
      ],
      "text/latex": [
       "\\begin{enumerate*}\n",
       "\\item 1\n",
       "\\item 2\n",
       "\\item 3\n",
       "\\item 4\n",
       "\\end{enumerate*}\n"
      ],
      "text/markdown": [
       "1. 1\n",
       "2. 2\n",
       "3. 3\n",
       "4. 4\n",
       "\n",
       "\n"
      ],
      "text/plain": [
       "[1] 1 2 3 4"
      ]
     },
     "metadata": {},
     "output_type": "display_data"
    }
   ],
   "source": [
    "c(1,2,3,4)"
   ]
  },
  {
   "cell_type": "markdown",
   "id": "584eff7d-8202-486f-9f8b-bd432275532c",
   "metadata": {
    "id": "584eff7d-8202-486f-9f8b-bd432275532c"
   },
   "source": [
    "\n",
    "The following is a vector of characters:\n",
    "\n",
    "|||||\n",
    "|---|---|---|---|\n",
    "|\"a\"|\"b\"|\"c\"|\"d\"|\n",
    "\n",
    "\n",
    "(Note that characters are captured \"in quotes\")\n"
   ]
  },
  {
   "cell_type": "code",
   "execution_count": 5,
   "id": "2dc18659-e1ab-443f-9ac6-621a6184f056",
   "metadata": {
    "id": "2dc18659-e1ab-443f-9ac6-621a6184f056"
   },
   "outputs": [
    {
     "data": {
      "text/html": [
       "<style>\n",
       ".list-inline {list-style: none; margin:0; padding: 0}\n",
       ".list-inline>li {display: inline-block}\n",
       ".list-inline>li:not(:last-child)::after {content: \"\\00b7\"; padding: 0 .5ex}\n",
       "</style>\n",
       "<ol class=list-inline><li>'a'</li><li>'b'</li><li>'c'</li><li>'d'</li></ol>\n"
      ],
      "text/latex": [
       "\\begin{enumerate*}\n",
       "\\item 'a'\n",
       "\\item 'b'\n",
       "\\item 'c'\n",
       "\\item 'd'\n",
       "\\end{enumerate*}\n"
      ],
      "text/markdown": [
       "1. 'a'\n",
       "2. 'b'\n",
       "3. 'c'\n",
       "4. 'd'\n",
       "\n",
       "\n"
      ],
      "text/plain": [
       "[1] \"a\" \"b\" \"c\" \"d\""
      ]
     },
     "metadata": {},
     "output_type": "display_data"
    }
   ],
   "source": [
    "c(\"a\",\"b\",\"c\",\"d\")"
   ]
  },
  {
   "cell_type": "markdown",
   "id": "e2fc2728-a243-48d4-8b01-ddd8c0f7a4fc",
   "metadata": {
    "id": "e2fc2728-a243-48d4-8b01-ddd8c0f7a4fc"
   },
   "source": [
    "We can select or drop items from a vector using their sequence index in [square brackets]\n",
    "\n",
    "For example, the following will keep only the third value in the vector:\n"
   ]
  },
  {
   "cell_type": "code",
   "execution_count": 6,
   "id": "66f6eb09-ed20-4783-84e8-cb156a77f9e1",
   "metadata": {
    "id": "66f6eb09-ed20-4783-84e8-cb156a77f9e1"
   },
   "outputs": [
    {
     "data": {
      "text/html": [
       "'c'"
      ],
      "text/latex": [
       "'c'"
      ],
      "text/markdown": [
       "'c'"
      ],
      "text/plain": [
       "[1] \"c\""
      ]
     },
     "metadata": {},
     "output_type": "display_data"
    }
   ],
   "source": [
    "c(\"a\",\"b\",\"c\",\"d\")[3]"
   ]
  },
  {
   "cell_type": "markdown",
   "id": "114e5984-3e2d-46ff-908d-613e3e2cd2d9",
   "metadata": {
    "id": "114e5984-3e2d-46ff-908d-613e3e2cd2d9"
   },
   "source": [
    "And the following will keep everything **except** the first value in the sequence:"
   ]
  },
  {
   "cell_type": "code",
   "execution_count": 7,
   "id": "cf670b87-b042-4285-b1f8-00ae64c819e1",
   "metadata": {
    "id": "cf670b87-b042-4285-b1f8-00ae64c819e1"
   },
   "outputs": [
    {
     "data": {
      "text/html": [
       "<style>\n",
       ".list-inline {list-style: none; margin:0; padding: 0}\n",
       ".list-inline>li {display: inline-block}\n",
       ".list-inline>li:not(:last-child)::after {content: \"\\00b7\"; padding: 0 .5ex}\n",
       "</style>\n",
       "<ol class=list-inline><li>'b'</li><li>'c'</li><li>'d'</li></ol>\n"
      ],
      "text/latex": [
       "\\begin{enumerate*}\n",
       "\\item 'b'\n",
       "\\item 'c'\n",
       "\\item 'd'\n",
       "\\end{enumerate*}\n"
      ],
      "text/markdown": [
       "1. 'b'\n",
       "2. 'c'\n",
       "3. 'd'\n",
       "\n",
       "\n"
      ],
      "text/plain": [
       "[1] \"b\" \"c\" \"d\""
      ]
     },
     "metadata": {},
     "output_type": "display_data"
    }
   ],
   "source": [
    "c(\"a\",\"b\",\"c\",\"d\")[-1]"
   ]
  },
  {
   "cell_type": "markdown",
   "id": "c62f0df9-693e-4efd-a8e4-40072f82b389",
   "metadata": {
    "id": "c62f0df9-693e-4efd-a8e4-40072f82b389"
   },
   "source": [
    "This syntax easily extends to selecting rows and/or columns from datasets. We will explore this functionality later.\n",
    "\n",
    "But how do you get data into R in the first place?"
   ]
  },
  {
   "cell_type": "markdown",
   "id": "ee2b8675-66bb-4f92-9415-fd0323acb670",
   "metadata": {
    "id": "ee2b8675-66bb-4f92-9415-fd0323acb670"
   },
   "source": [
    "# Load a sample dataset\n",
    "\n",
    "Later we will be using data from the European Social Survey.\n",
    "We have already downloaded it from their website and stored it in a location accessible via a URL. We will briefly show you the function they provide for data access, but to keep things simple here we just download from our URL.\n",
    "\n",
    "To do so we use the command `read.csv()`\n"
   ]
  },
  {
   "cell_type": "code",
   "execution_count": null,
   "id": "9c050bd7-e34d-46b7-9356-9f8fe98facc4",
   "metadata": {
    "id": "9c050bd7-e34d-46b7-9356-9f8fe98facc4"
   },
   "outputs": [],
   "source": [
    "# Load sample of ESS Round 10 participants:\n",
    "# ESS_500: random sub-sample of 500 participants prepared for this workshop)\n",
    "\n",
    "ESS_500 <- read.csv(\"https://www.dropbox.com/s/kotimfih8v0ys2t/ESS10_500.csv?dl=1\")"
   ]
  },
  {
   "cell_type": "markdown",
   "id": "bfd17123-61c8-428c-a393-30450204846f",
   "metadata": {
    "id": "bfd17123-61c8-428c-a393-30450204846f"
   },
   "source": [
    "# Select a subset of rows\n",
    "\n",
    "To keep only cases from Great Britain in the ESS data, we use the square-bracket indexing syntax, which we now extend a bit.\n",
    "\n",
    "Previously we were indexing a one-dimensional vector, so we could use [n] to index the nth item in the vector.\n",
    "\n",
    "Now we have a data frame with two dimensions (rows, columns):\n",
    "    `object_name[row{s}, column(s)]`\n",
    "\n",
    "Note that a blank index is interpreted as \"all\" `[,1]` means \"all rows and column one.\"\n",
    "`[2,]` means \"row two and all columns.\"\n",
    "    \n",
    "Using this format to select the row only:"
   ]
  },
  {
   "cell_type": "code",
   "execution_count": null,
   "id": "754c54ea-25c4-4ea7-91ef-e54987746fd0",
   "metadata": {
    "id": "754c54ea-25c4-4ea7-91ef-e54987746fd0"
   },
   "outputs": [],
   "source": [
    "ESS_500[1,]"
   ]
  },
  {
   "cell_type": "markdown",
   "id": "6fae1550-0e19-4db7-a608-792f492fb912",
   "metadata": {
    "id": "6fae1550-0e19-4db7-a608-792f492fb912"
   },
   "source": [
    "Or by using a vector in the index we can select multiple rows and/or columns. Can you work out which cells are selected here?"
   ]
  },
  {
   "cell_type": "code",
   "execution_count": null,
   "id": "94416c54-9743-4c65-8cd0-20a7987949fa",
   "metadata": {
    "id": "94416c54-9743-4c65-8cd0-20a7987949fa"
   },
   "outputs": [],
   "source": [
    "ESS_500[c(1,3),1]"
   ]
  },
  {
   "cell_type": "markdown",
   "id": "78d524f8-5876-4815-b7f2-edbe3e099f91",
   "metadata": {
    "id": "78d524f8-5876-4815-b7f2-edbe3e099f91"
   },
   "source": [
    "We can also select a column by name using the dollar operator, e.g.:\n",
    "\n",
    "**variable_name$column_name**"
   ]
  },
  {
   "cell_type": "code",
   "execution_count": null,
   "id": "17619a02-1906-4740-87ab-e01cb1aeb888",
   "metadata": {
    "id": "17619a02-1906-4740-87ab-e01cb1aeb888"
   },
   "outputs": [],
   "source": [
    "table( ESS_500$cntry )\n",
    "\n",
    "#Here we sent the \"cntry\" column to the function table(), which tabulates N per response option"
   ]
  },
  {
   "cell_type": "markdown",
   "id": "f07aee49-70d7-42fa-8c5c-576c1c5f2acb",
   "metadata": {
    "id": "f07aee49-70d7-42fa-8c5c-576c1c5f2acb"
   },
   "source": [
    "By using a function like `ifelse()` or `which()` to produce the selection vector, we can wrangle data very precisely.\n",
    "\n",
    "First let's see what ``which()` does:\n"
   ]
  },
  {
   "cell_type": "code",
   "execution_count": null,
   "id": "d6a98d3a-4ab1-4952-8d51-0ec86e7950cc",
   "metadata": {
    "id": "d6a98d3a-4ab1-4952-8d51-0ec86e7950cc"
   },
   "outputs": [],
   "source": [
    "which(ESS_500$cntry==\"GB\")"
   ]
  },
  {
   "cell_type": "markdown",
   "id": "2ce6c12c-2b25-451d-b99d-cafedd719bad",
   "metadata": {
    "id": "2ce6c12c-2b25-451d-b99d-cafedd719bad"
   },
   "source": [
    "What we have produced here is a vector of index numbers for cases where the variable \"cntry\" is \"GB.\"\n",
    "\n",
    "Using this command as the input to the index function `[,]` we get the subset of the dataframe whose country is \"GB\":  \n",
    "(And can you figure out which columns are selected?)"
   ]
  },
  {
   "cell_type": "code",
   "execution_count": null,
   "id": "b37f4452-4153-48ad-bfcf-302aa8bf34b3",
   "metadata": {
    "id": "b37f4452-4153-48ad-bfcf-302aa8bf34b3"
   },
   "outputs": [],
   "source": [
    "ESS_GB <- ESS_500[which(ESS_500$cntry==\"GB\"),]\n",
    "str(ESS_GB)"
   ]
  },
  {
   "cell_type": "markdown",
   "id": "b459898c-51d7-438d-8ab0-31669d82a307",
   "metadata": {
    "id": "b459898c-51d7-438d-8ab0-31669d82a307"
   },
   "source": [
    "Note that we now have 13 rows and 619 variables. Obviously, in a serious analysis of ESS data, we would not have started with a random subset of participants, and would have a lot more cases at this point.\n",
    "\n",
    "However, we would still need to make the variables more manageable."
   ]
  },
  {
   "cell_type": "markdown",
   "id": "089a924d-a3cf-4447-8a6a-883df739234b",
   "metadata": {
    "id": "089a924d-a3cf-4447-8a6a-883df739234b"
   },
   "source": [
    "# \"Select\" variables\n",
    "We want to retain the variables relating to trust.\n",
    "\n",
    "You could use a function, as we did above, to select columns by matching patterns against names. For example, we could select all the variables containing the text \"trst.\"\n",
    "\n",
    "However, in this case it is simpler to just find the variable names relating to trust in the codebook and select them manually as follows:"
   ]
  },
  {
   "cell_type": "code",
   "execution_count": null,
   "id": "6ac43cd1-1875-44f2-8410-f984915de065",
   "metadata": {
    "id": "6ac43cd1-1875-44f2-8410-f984915de065"
   },
   "outputs": [],
   "source": [
    "# subsetting the 'trust' variables (for a manageable dataframe)\n",
    "ESS_GB <- ESS_GB[,c(\"trstprl\",\n",
    "                    \"trstlgl\",\n",
    "                    \"trstplc\",\n",
    "                    \"trstplt\",\n",
    "                    \"trstprt\",\n",
    "                    \"trstep\",\n",
    "                    \"trstun\",\n",
    "                    \"trstsci\",\n",
    "                    \"lrscale\")]\n",
    "\n",
    "\n",
    "str(ESS_GB )"
   ]
  },
  {
   "cell_type": "markdown",
   "id": "616c951d-25d6-4169-8f88-8c33dd371c59",
   "metadata": {
    "id": "616c951d-25d6-4169-8f88-8c33dd371c59"
   },
   "source": [
    "# Missing Data\n",
    "\n",
    "The ESS data includes multiple missing values.\n",
    "Since the methods implemented in surverygraph calculate similarity across all items, missing data poses a serious issue. Standard approaches to missing data imputation usually imply some kind of linear model; but the theoretical framework we are relying on here holds that variables are most meaningful in **combination**, and caution is thus advised.\n",
    "The simplest solution at present is to drop variables with missing data case-wise. This, of course, has non-random effects on the analysis; but at least we know what they are and how to describe them.\n",
    "\n",
    "If there are one or two variables that are particularly problematic, you could drop those variables instead of dropping cases; or you could dummy-code variables with a lot of missing data, and treat \"missing\" as one of the response options.\n",
    "\n",
    "Here we will implement the simplest solution, which is to simply drop cases with any data missing.\n",
    "\n",
    "We will do so using the na.omit() function, which simply drops all with any missing values (coded as NA).\n",
    "\n"
   ]
  },
  {
   "cell_type": "code",
   "execution_count": null,
   "id": "aa5261f7-4a52-4fd0-8fa6-42beb97e2858",
   "metadata": {
    "id": "aa5261f7-4a52-4fd0-8fa6-42beb97e2858"
   },
   "outputs": [],
   "source": [
    "nrow(ESS_GB)               ##count rows all cases\n",
    "ESS_GB<-(na.omit(ESS_GB))  ##omitting rows with NA values; save to original object\n",
    "nrow(ESS_GB)               ##count rows to see if any dropped"
   ]
  },
  {
   "cell_type": "markdown",
   "id": "af420d57-2e75-424b-b361-bc5d7ff42543",
   "metadata": {
    "id": "af420d57-2e75-424b-b361-bc5d7ff42543"
   },
   "source": [
    "### Very important - don't drop data unless you have to, and ideally at the last step\n",
    "\n",
    "In the case above, we did not lose any rows because there were no missing data.\n",
    "\n",
    "However, note that we already selected our variables and participant subset first.\n",
    "\n",
    "Let's see what can happen in a worst case scenario:\n",
    "\n"
   ]
  },
  {
   "cell_type": "code",
   "execution_count": null,
   "id": "df1e5cfc-dd30-4f95-a027-96892c1e4499",
   "metadata": {
    "id": "df1e5cfc-dd30-4f95-a027-96892c1e4499"
   },
   "outputs": [],
   "source": [
    "nrow(na.omit(ESS_500))"
   ]
  },
  {
   "cell_type": "markdown",
   "id": "52ed8805-be03-4037-86b4-7352765afbb7",
   "metadata": {
    "id": "52ed8805-be03-4037-86b4-7352765afbb7"
   },
   "source": [
    "Using the dataset with all variables included, we have now omitted ALL CASES! This is extreme enough for us to notice; but if you are performing this step including variables that are not even used in the network analysis, you may unwittingly drop useful data.\n",
    "\n",
    "For this reason, it is best to do this as late as possible in the pipeline."
   ]
  },
  {
   "cell_type": "markdown",
   "id": "266a497a-787f-455d-af44-812a11f0e01a",
   "metadata": {
    "id": "266a497a-787f-455d-af44-812a11f0e01a"
   },
   "source": [
    "# Plotting\n",
    "\n",
    "Although most people are now useing more advanced packages like ggplot2 for plotting, the base R function plot() is very versatile.\n",
    "\n",
    "For example, if we have two vectors of equal length we can create a scatterplot by sending both to the plot() function.\n",
    "\n",
    "(Note that R pairs the items based on their positions in their respective vectors.)\n"
   ]
  },
  {
   "cell_type": "code",
   "execution_count": null,
   "id": "fac1e553-668c-4c6c-b2a1-35029b13e1cc",
   "metadata": {
    "id": "fac1e553-668c-4c6c-b2a1-35029b13e1cc"
   },
   "outputs": [],
   "source": [
    "plot(c(1,5,11,8,1), c(2,4,10,9,1))"
   ]
  },
  {
   "cell_type": "markdown",
   "id": "d35b7e03-9e68-439a-a656-fa9aa848965a",
   "metadata": {
    "id": "d35b7e03-9e68-439a-a656-fa9aa848965a"
   },
   "source": [
    "# igraph\n",
    "We don't have much time to cover igraph in this workshop, so we have to stick to the basics.\n",
    "For a more detailed introduction, we highly recommend the online tutorials by Prof. Katya Ognyanova, which we have drawn on heavily in preparing our own.\n",
    "\n",
    "* Ognyanova, K. (2021) Network visualization with R. Retrieved from [www.kateto.net/network-visualization](www.kateto.net/network-visualization).\n",
    "\n",
    "* Ognyanova, K. (2016) Network analysis with R and igraph: NetSci X Tutorial. Retrieved from [www.kateto.net/networks-r-igraph](www.kateto.net/networks-r-igraph).\n",
    "\n",
    "Hers are more comprehensive, better in every way, and definitely worth your time!\n"
   ]
  },
  {
   "cell_type": "code",
   "execution_count": null,
   "id": "be7d0e33-872f-481d-b44b-a8cc7c38b10a",
   "metadata": {
    "id": "be7d0e33-872f-481d-b44b-a8cc7c38b10a"
   },
   "outputs": [],
   "source": [
    "library(\"igraph\")"
   ]
  },
  {
   "cell_type": "markdown",
   "id": "4a0331b3-aa63-4d93-bff6-b2bf51a98b59",
   "metadata": {
    "id": "4a0331b3-aa63-4d93-bff6-b2bf51a98b59"
   },
   "source": [
    "# Some definitions\n",
    "\n",
    "A **graph** (or network) is a structure consisting of **nodes** (or vertices) connected by **edges** (or links)\n",
    "\n",
    "Synonyms:\n",
    "* graph = network\n",
    "* node = vertex\n",
    "* edge = link\n",
    "  \n",
    "\n",
    "## Definition: a *node* (or *vertex*)\n",
    "Nodes are any entities for which structure can be mapped. Nodes of different types can appear in the same network, but this requires some care.\n",
    "\n",
    "## Definition: An *edge* (or *link*)\n",
    "Edges are structural links between nodes. **It is important to know what kind of structural link your edges represent**.\n",
    "Edges can have weights, ie. different strengths.\n",
    "Edges can be **directed** or **undirected**.\n",
    "For example, if Mike is friends with Elaine, but Elaine is not Friends with Mike we have a single directed edge.\n",
    "In attitude networks edges are usually undirected.\n",
    "\n",
    "## Describing graphs\n",
    "To describe a graph we need to specify the nodes, and define the edges between them.\n",
    "\n",
    "There are several formats that achieve this. In this workshop we will use *edge lists*.\n",
    "\n",
    "An edgelist is simply a list of node-pairs that are connected by an edge. e.g. the following edgelist defines four edges, where each number refers to a numbered node:\n",
    "\n",
    "Let's use this format to define edges in igraph:\n",
    "\n",
    "\n"
   ]
  },
  {
   "cell_type": "code",
   "execution_count": null,
   "id": "e521546f-519f-40c7-8cf4-f47aa442d43b",
   "metadata": {
    "id": "e521546f-519f-40c7-8cf4-f47aa442d43b"
   },
   "outputs": [],
   "source": [
    "g1 <- graph(edges=c(1,2, 2,3, 3,1, 4,2), directed=FALSE )\n",
    "plot(g1)"
   ]
  },
  {
   "cell_type": "markdown",
   "id": "f722ab2c-7016-45cd-9403-6cd18e6f48e4",
   "metadata": {
    "id": "f722ab2c-7016-45cd-9403-6cd18e6f48e4"
   },
   "source": [
    "Breaking this down:\n",
    "* In the graph() command, we passed the `edge` parameter a vector of numbers with the following code:\n",
    "\n",
    "                edges=c(1,2,  2,3,  3,1,  4,2)\n",
    "\n",
    "* The graph command treats these as pairs between which edges exist:\n",
    "\n",
    "|Source|Destination|\n",
    "|---|---|\n",
    "|1|2|\n",
    "|2|3|\n",
    "|3|1|\n",
    "|4|2|\n",
    "\n",
    "i.e. node 1 is connected to node 2; node 2 is connected to node 3. etc.\n",
    "\n",
    "* We specify that they are undirected by setting the parameter `directed` to `false`"
   ]
  },
  {
   "cell_type": "markdown",
   "id": "458527c4-3dc9-4e39-afd0-98890cfb7b97",
   "metadata": {
    "id": "458527c4-3dc9-4e39-afd0-98890cfb7b97"
   },
   "source": [
    "## Definition: *degree*\n",
    "The *degree* of a node is simply how many edges it connects to. Take a look at the network we defined above. One node has a degree of 1; two nodes have a degree of two; one node has a degree of three.\n",
    "\n",
    "The node with the highest degree is more **central** (this is \"degree centrality\")."
   ]
  },
  {
   "cell_type": "markdown",
   "id": "96ea5453-ea89-483b-9073-d21847044704",
   "metadata": {
    "id": "96ea5453-ea89-483b-9073-d21847044704"
   },
   "source": [
    "## Definition: *edge density*\n",
    "\n",
    "The edge density is the ratio of *actually observed edges* to the *maximum possible number of edges.*\n",
    "\n",
    "The maximum possible number of edges occurs in a fully connected graph, where each node is connected to each other node by an edge.\n",
    "\n",
    "Obviously, the edge density of a fully connected graph is 1. Run the following code chunk to confirm:"
   ]
  },
  {
   "cell_type": "code",
   "execution_count": 9,
   "id": "fe12e345-1b48-4f3c-9ebe-85aa628c72ac",
   "metadata": {
    "id": "fe12e345-1b48-4f3c-9ebe-85aa628c72ac"
   },
   "outputs": [
    {
     "ename": "ERROR",
     "evalue": "Error in make_full_graph(100): could not find function \"make_full_graph\"\n",
     "output_type": "error",
     "traceback": [
      "Error in make_full_graph(100): could not find function \"make_full_graph\"\nTraceback:\n"
     ]
    }
   ],
   "source": [
    "#Make a fully connected graph with 100 nodes\n",
    "g_fullyconnected <- make_full_graph(100)\n",
    "\n",
    "#calculate edge density\n",
    "edge_density(g_fullyconnected)"
   ]
  },
  {
   "cell_type": "markdown",
   "id": "d40c97c3-8216-40b5-bf90-8c558e947365",
   "metadata": {
    "id": "d40c97c3-8216-40b5-bf90-8c558e947365"
   },
   "source": [
    "And now we can calculate edge density on a less dense network; in this case, the infamous Zachary's Karate Club.\n",
    "\n",
    "The network documents friendships between 34 members of a karate club in the US in the 70's which underwent a schism following a disagreement between the club administrator and instructor."
   ]
  },
  {
   "cell_type": "code",
   "execution_count": null,
   "id": "3322294e-dcb0-409b-829e-0840c928c95e",
   "metadata": {
    "id": "3322294e-dcb0-409b-829e-0840c928c95e"
   },
   "outputs": [],
   "source": [
    "#igraph can build a number of famous/often used networks with the make_graph() function\n",
    "g_zach<-make_graph(\"Zachary\")\n",
    "\n",
    "#calculate edge density\n",
    "edge_density(g_zach)"
   ]
  },
  {
   "cell_type": "markdown",
   "id": "d2e1acab-4c30-4a61-b64a-810fa49b807f",
   "metadata": {
    "id": "d2e1acab-4c30-4a61-b64a-810fa49b807f"
   },
   "source": [
    "## Accessing and modifying graphs\n",
    "\n",
    "To access the Vertices in igraph we use the command `V()`."
   ]
  },
  {
   "cell_type": "code",
   "execution_count": null,
   "id": "533b9c2a-57dd-46ae-833d-443ab3b95293",
   "metadata": {
    "id": "533b9c2a-57dd-46ae-833d-443ab3b95293"
   },
   "outputs": [],
   "source": [
    "V(g1)"
   ]
  },
  {
   "cell_type": "markdown",
   "id": "c7c91221-03f1-4d82-bacb-ce74b181be94",
   "metadata": {
    "id": "c7c91221-03f1-4d82-bacb-ce74b181be94"
   },
   "source": [
    "And to access Edges we use `E()`."
   ]
  },
  {
   "cell_type": "code",
   "execution_count": null,
   "id": "78a428ad-29e8-42c6-8e93-86fcd4af31c1",
   "metadata": {
    "id": "78a428ad-29e8-42c6-8e93-86fcd4af31c1"
   },
   "outputs": [],
   "source": [
    "E(g1)"
   ]
  },
  {
   "cell_type": "markdown",
   "id": "81f35b22-c9b8-4176-89e2-aef0594eace0",
   "metadata": {
    "id": "81f35b22-c9b8-4176-89e2-aef0594eace0"
   },
   "source": [
    "### Accessing and modifying vertex and edge attributes\n",
    "\n",
    "Both vertices and edges can have attributes, accessed via the V() and E() commands with the \\$ operator. e.g.\n",
    "   `v(graph_name)$attribute_name`\n",
    "\n",
    "This will access the specified attribute for all vertices in graph_name (returned or supplied as a vector).\n",
    "\n",
    "Let's use this new power to color all the nodes:\n"
   ]
  },
  {
   "cell_type": "code",
   "execution_count": null,
   "id": "13089750-fa77-4001-8ef5-f55d7ae7bd4f",
   "metadata": {
    "id": "13089750-fa77-4001-8ef5-f55d7ae7bd4f"
   },
   "outputs": [],
   "source": [
    "V(g1)$color <- \"green\"\n",
    "plot(g1)"
   ]
  },
  {
   "cell_type": "markdown",
   "id": "a7c562e2-cb50-4be8-b7e8-08d00c48842a",
   "metadata": {
    "id": "a7c562e2-cb50-4be8-b7e8-08d00c48842a"
   },
   "source": [
    "And we can retrieve the attributes in a similar way:"
   ]
  },
  {
   "cell_type": "code",
   "execution_count": null,
   "id": "2f90d60b-1b33-447b-8541-aa10d6e9e2da",
   "metadata": {
    "id": "2f90d60b-1b33-447b-8541-aa10d6e9e2da"
   },
   "outputs": [],
   "source": [
    "V(g1)$color"
   ]
  },
  {
   "cell_type": "markdown",
   "id": "e8148196-3554-49bf-91cd-1024eb67268c",
   "metadata": {
    "id": "e8148196-3554-49bf-91cd-1024eb67268c"
   },
   "source": [
    "Note that the order corresponds to the order of the nodes in the Vertex vector.\n",
    "\n",
    "This syntax is very powerful, and we can easily perform conditional operations.  \n",
    "\n",
    "e.g. We can color nodes conditionally based on a value. Here, if node ID is 1 or 2 then blue; else pink."
   ]
  },
  {
   "cell_type": "code",
   "execution_count": null,
   "id": "937a1288-7282-41eb-bf96-c31562bd6f5e",
   "metadata": {
    "id": "937a1288-7282-41eb-bf96-c31562bd6f5e"
   },
   "outputs": [],
   "source": [
    "V(g1)$color <- ifelse(V(g1)==c(1,2), \"lightblue\", \"pink\")\n",
    "plot(g1)"
   ]
  },
  {
   "cell_type": "markdown",
   "id": "5c60d0eb-0145-4d74-8bd1-22fa9b5e122f",
   "metadata": {
    "id": "5c60d0eb-0145-4d74-8bd1-22fa9b5e122f"
   },
   "source": [
    "Breaking this down:\n",
    "Starting from the middle of the command and working outwards:\n",
    "* `V(g1)==c(1,2)` produces a vector of TRUE/FALSE values). If the node ID appears in the supplied vector `c(1,2)` then a value of TRUE will result, otherwise FALSE:\n",
    "\n",
    "`TRUE    TRUE    FALSE   FALSE`\n",
    "\n",
    "* This vector of TRUE/FALSE values is supplied to the ifelse() function which matches \"lightblue\" against TRUE, and \"pink\" against FALSE, resulting in a vector of colours:\n",
    "\n",
    "    `lightblue  lightblue   pink    pink'`\n",
    "\n",
    "This vector of colours is assigned to the vector of attributes referenced by `V()$colour`.\n",
    "\n",
    "These particular colours are recognized by R because they correspond to a list of built-in colours. You can get a list of these with the `colors()` funtion.  \n"
   ]
  },
  {
   "cell_type": "markdown",
   "id": "b65b50d9-74b0-4312-af89-795ae395d047",
   "metadata": {
    "id": "b65b50d9-74b0-4312-af89-795ae395d047"
   },
   "source": [
    "The syntax for accessing edge attributes works in exactly the same way.\n",
    "We'll keep things simple and color all the edges orange:\n"
   ]
  },
  {
   "cell_type": "code",
   "execution_count": null,
   "id": "91d1fb97-33f6-4a85-a8bc-eb539ce59f26",
   "metadata": {
    "id": "91d1fb97-33f6-4a85-a8bc-eb539ce59f26"
   },
   "outputs": [],
   "source": [
    "E(g1)$color <- \"orange\"\n",
    "plot(g1)\n",
    "E(g1)$color"
   ]
  },
  {
   "cell_type": "markdown",
   "id": "3f02d512-a530-448a-a9fb-7fa34617d3d9",
   "metadata": {
    "id": "3f02d512-a530-448a-a9fb-7fa34617d3d9"
   },
   "source": [
    "## Special attributes\n",
    "\n",
    "A number of attributes, if set, will automatically map on to igraph plotting parameters. A few that might be useful:\n",
    "\n",
    "### vertices\n",
    "\n",
    "Attribute|Behaviour & values\n",
    "---|---\n",
    "color|Node color\n",
    "shape|“none”, “circle”, “square”, “sphere”, etc.\n",
    "size|Size of the node\n",
    "label|Character string to label the nodes\n",
    "vertex.label.cex|Font-size\n",
    "etc.|There are a few more, ommitted here to avoid overload :)\n",
    "\n",
    "We've already used colour above; let's try a few more:\n",
    "\n"
   ]
  },
  {
   "cell_type": "code",
   "execution_count": null,
   "id": "0dce1981-c0ab-4628-a891-6241a8e2e0e4",
   "metadata": {
    "id": "0dce1981-c0ab-4628-a891-6241a8e2e0e4"
   },
   "outputs": [],
   "source": [
    "V(g1)$shape <- c(\"circle\", \"square\", \"sphere\", \"sphere\")\n",
    "V(g1)$size<- c(6,12,24,48)\n",
    "plot(g1)"
   ]
  },
  {
   "cell_type": "markdown",
   "id": "860d0dd0-f0d8-4973-a407-d43ec7381bbe",
   "metadata": {
    "id": "860d0dd0-f0d8-4973-a407-d43ec7381bbe"
   },
   "source": [
    "### Special edge attributes\n",
    "Again, there are a bunch of these, but the following are a useful start:\n",
    "\n",
    "Attribute|Behaviour & values\n",
    "---|---\n",
    "color|Edge color\n",
    "width|Edge width (defaults is 1)\n",
    "lty|Stands for Line type: “blank” (or 0), “solid” (or 1), “dashed” (or 2), “dotted” (or 3), “dotdash” (or 4), “longdash” (or 5), “twodash” (or 6)\n",
    "label|Character string to label edges\n",
    "label.cex|Size for labels\n",
    "edge.curved|Edge curvature, ranging from 0 (straight) to 1 (very curved) (FALSE sets it to 0, TRUE to 0.5)\n",
    "\n",
    "\n",
    "Let's try some:"
   ]
  },
  {
   "cell_type": "code",
   "execution_count": null,
   "id": "266b06e3-8963-4036-b64a-8d6b1e5b1ba7",
   "metadata": {
    "id": "266b06e3-8963-4036-b64a-8d6b1e5b1ba7"
   },
   "outputs": [],
   "source": [
    "E(g1)$width<-c(1,2,4,8)\n",
    "E(g1)$lty<-c(1,2,3,4)\n",
    "E(g1)$label<-c(\"One\",\"Two\", \"Three\", \"Four\")\n",
    "plot(g1)"
   ]
  },
  {
   "cell_type": "markdown",
   "id": "9651819b-e16b-4f2e-a46e-7684f48412d7",
   "metadata": {
    "id": "9651819b-e16b-4f2e-a46e-7684f48412d7"
   },
   "source": [
    "And to finish this section, let's plot the Zachary Karate Club network:"
   ]
  },
  {
   "cell_type": "markdown",
   "id": "ZC5xofVaQKWB",
   "metadata": {
    "id": "ZC5xofVaQKWB"
   },
   "source": []
  },
  {
   "cell_type": "code",
   "execution_count": null,
   "id": "4c44137e-df46-4ddd-a278-1550343bcb33",
   "metadata": {
    "id": "4c44137e-df46-4ddd-a278-1550343bcb33"
   },
   "outputs": [],
   "source": [
    "g_zachary<-make_graph(\"Zachary\")\n",
    "plot(g_zachary, vertex.size=10, vertex.label=NA)"
   ]
  },
  {
   "cell_type": "markdown",
   "id": "f04e839c-baf6-48f5-8c0b-5577ab9f998e",
   "metadata": {
    "id": "f04e839c-baf6-48f5-8c0b-5577ab9f998e"
   },
   "source": [
    "## Thus concludes the brief introduction to igraph\n",
    "\n",
    "Next we will explore how to convert surveys to networks with the surveygraph package."
   ]
  },
  {
   "cell_type": "markdown",
   "id": "5a50daad-96e5-433a-a851-8ea9f6e8dde0",
   "metadata": {
    "id": "5a50daad-96e5-433a-a851-8ea9f6e8dde0"
   },
   "source": [
    "# Converting surveys to graphs with surveygraph\n",
    "\n",
    "## Package overview\n",
    "The core algorithm is simple:\n",
    "\n",
    "* Find all dyads (pairs) of entities\n",
    "* For each dyad, calculate the similarity (currently a Manhattan distance; other options will be available in future)\n",
    "* Apply a threshold\n",
    "* Output an edgelist specifying the entities as nodes and their similarity as edges\n",
    "\n",
    "We specify whether we are interested in the **agent layer** (where the entities of interest are agents, and the edges are similarities in their responses), or the **symbolic layer** (where the entities are variables, and the edges are similarities across agents).\n",
    "\n",
    "This operationalizes the network theory of attitudes (see bibliography in appendix 2, but could also model demographic attributes (c.f. Blau, 1977).\n",
    "\n"
   ]
  },
  {
   "cell_type": "markdown",
   "id": "c83b2dc6-8786-409a-9b43-8a8aa29cc2b7",
   "metadata": {
    "id": "c83b2dc6-8786-409a-9b43-8a8aa29cc2b7"
   },
   "source": [
    "## Using make_synthetic_data() to simulate some data\n"
   ]
  },
  {
   "cell_type": "markdown",
   "id": "360b0ae7-57dc-4512-b59e-347f581b5658",
   "metadata": {
    "id": "360b0ae7-57dc-4512-b59e-347f581b5658"
   },
   "source": [
    "We have included the very basic `make_synthetic_data` function to simulate data with varying degrees of polarisation.\n",
    "You can set the following parameters:\n",
    "* `nrow` = the number of agents in the simulated survey\n",
    "* `ncol` = the number of variables in the simulated survey\n",
    "* `polarisation` = the amount of multidimensional polarisation\n",
    "* `minority` = approximate proportion of the sample in one of the two groups\n",
    "\n",
    "Of course you can simulate data using your own algorithms as well.\n",
    "\n",
    "Here we will simulate a sample of 150 people answering 1 item in a survey with no intentional polarisation:  \n"
   ]
  },
  {
   "cell_type": "code",
   "execution_count": null,
   "id": "dfc4806f-bca2-449a-91d7-80f8146f4270",
   "metadata": {
    "colab": {
     "base_uri": "https://localhost:8080/",
     "height": 71
    },
    "id": "dfc4806f-bca2-449a-91d7-80f8146f4270",
    "outputId": "bd2e87d7-4356-4e9b-ef5b-c2d96a8f559a"
   },
   "outputs": [],
   "source": [
    "testdata_unpolarised <- make_synthetic_data(nrow=150, ncol=1, polarisation=0, minority =0.5)\n",
    "str(testdata_unpolarised)"
   ]
  },
  {
   "cell_type": "markdown",
   "id": "bd25a078-2fa3-46f8-b443-845995ede985",
   "metadata": {
    "id": "bd25a078-2fa3-46f8-b443-845995ede985"
   },
   "source": [
    "The str() command returns the structure of an object. We can see that the object is a data frame with two columns: `group` and `item_1`.\n",
    "\n",
    "`group` serves as a grouping variable, and `item_1` as simulated item-responses for one item.\n",
    "\n",
    "We can use the table() function to see how many agents there are in each \"group\".\n",
    "\n",
    "We can send the output of the ``table()`` command to show a histogram of responses:"
   ]
  },
  {
   "cell_type": "code",
   "execution_count": null,
   "id": "c83cf7b9-bd71-45b9-900e-4aa2e4ce26c0",
   "metadata": {
    "id": "c83cf7b9-bd71-45b9-900e-4aa2e4ce26c0"
   },
   "outputs": [],
   "source": [
    "table(testdata_unpolarised$group)\n",
    "barplot(table(testdata_unpolarised$item_1))"
   ]
  },
  {
   "cell_type": "markdown",
   "id": "9641a2ba-87e5-4407-8671-1fad92fdbe6a",
   "metadata": {
    "id": "9641a2ba-87e5-4407-8671-1fad92fdbe6a"
   },
   "source": [
    "Running the same command again to simulate more \"items\" in a survey, note that the first column returned is always the \"group\" and the following ones are the \"items\", numbered from 1 to the number specified for ncol in the function call."
   ]
  },
  {
   "cell_type": "code",
   "execution_count": null,
   "id": "4d9dd23e-8ec7-4527-bffa-0773e52f0796",
   "metadata": {
    "id": "4d9dd23e-8ec7-4527-bffa-0773e52f0796"
   },
   "outputs": [],
   "source": [
    "testdata_unpolarised <- make_synthetic_data(nrow=150, ncol=10, polarisation=0, minority =0.5)\n",
    "str(testdata_unpolarised)"
   ]
  },
  {
   "cell_type": "markdown",
   "id": "d85be42d-fa5f-4e2c-ab13-bc99374fcde6",
   "metadata": {
    "id": "d85be42d-fa5f-4e2c-ab13-bc99374fcde6"
   },
   "source": [
    "We can reference the group column using the bracket operators and indexing the column number [,1]"
   ]
  },
  {
   "cell_type": "code",
   "execution_count": null,
   "id": "bd4d89cf-65d3-47da-9471-655637114e4b",
   "metadata": {
    "id": "bd4d89cf-65d3-47da-9471-655637114e4b"
   },
   "outputs": [],
   "source": [
    "testdata_unpolarised[,1]"
   ]
  },
  {
   "cell_type": "markdown",
   "id": "0f0cceea-7af4-44cb-b96e-b92e6d357bff",
   "metadata": {
    "id": "0f0cceea-7af4-44cb-b96e-b92e6d357bff"
   },
   "source": [
    "And we can drop the group column using \"-1\" as a column index, meaning \"keep everything except the first column\":"
   ]
  },
  {
   "cell_type": "code",
   "execution_count": null,
   "id": "8f7d6953-6660-40c5-b5d4-0ee737e81a98",
   "metadata": {
    "id": "8f7d6953-6660-40c5-b5d4-0ee737e81a98"
   },
   "outputs": [],
   "source": [
    "str(testdata_unpolarised[,-1])"
   ]
  },
  {
   "cell_type": "markdown",
   "id": "3bc60b55-d2ba-4b6b-b030-6d39b673ef53",
   "metadata": {
    "id": "3bc60b55-d2ba-4b6b-b030-6d39b673ef53"
   },
   "source": [
    "Breaking this down:\n",
    "After the name of the dataframe we added `[,-1]`\n",
    "* these square brackets reference `[rows, columns]`\n",
    "* by not specifying the rows, and specifying -1 for the columns, we are saying \"keep all the rows and drop the first column\"\n",
    "* This did not change the original variable,  only what got passed to str(), which you can check by running `str(testdata_unpolarised)` again\n",
    "* Note that, in the first line of output from str(), the variables drop from 11 to 10"
   ]
  },
  {
   "cell_type": "markdown",
   "id": "b8f0b386-022b-4da5-83f7-5e6fcaf5d635",
   "metadata": {
    "id": "b8f0b386-022b-4da5-83f7-5e6fcaf5d635"
   },
   "source": [
    "## Now the exciting bit: we will use surveygraph to create networks from the simulated data\n",
    "\n",
    "## First, we simulate a survey dataset with intentional polarisation\n",
    "\n",
    "To help with workshop facilitation, we will use a trick to ensure that everyone gets the same results:\n",
    "\n",
    "The function ``set.seed()`` will \"fix\" the random number generation so that everyone (should) get the same dataset to work with, since we will all use the same seed.\n"
   ]
  },
  {
   "cell_type": "code",
   "execution_count": null,
   "id": "e4945958-81ba-4386-ad0f-ef1485c79ac5",
   "metadata": {
    "id": "e4945958-81ba-4386-ad0f-ef1485c79ac5"
   },
   "outputs": [],
   "source": [
    "set.seed(123) #Delete or comment this out to go back to fully random simulation\n",
    "\n",
    "#Simulate a survey with substantial intentional polarisation:\n",
    "testdata_polarised <- make_synthetic_data(nrow=150, ncol=10, polarisation=.2, minority =0.5)\n",
    "\n",
    "str(testdata_polarised)"
   ]
  },
  {
   "cell_type": "markdown",
   "id": "3a2f3f3c-8c85-46d4-9ab3-bd2a8d4d8ab1",
   "metadata": {
    "id": "3a2f3f3c-8c85-46d4-9ab3-bd2a8d4d8ab1"
   },
   "source": [
    "\n",
    "To make a projection we call the `make_projection()` function which has the following parameters:\n",
    "* `data`\n",
    "* `layer`\n",
    "* `threshold_method`\n",
    "* `method_value`\n",
    "* `centre`\n",
    "\n",
    "We will explore all the parameters in detail below.\n",
    "\n",
    "The only one we will note here is `layer`, which specifies which projection to calculate, and can take the value \"agent\" or \"symbolic\"\n",
    "\n",
    "We start with an **agent** projection. **This view of the data visualizes agents as nodes, with edges between each dyad defined by the similarity of their responses** (technically a Manhattan distance; additional options will be added in future).\n",
    "\n",
    "\n"
   ]
  },
  {
   "cell_type": "code",
   "execution_count": null,
   "id": "oYotpko8VfHc",
   "metadata": {
    "id": "oYotpko8VfHc"
   },
   "outputs": [],
   "source": [
    "#Generate the agent projection of the survey:\n",
    "polarised_edgelist_agent <- make_projection(testdata_polarised[,-1],layer = \"agent\", threshold_method = \"raw_similarity\", method_value= -1, centre = FALSE)\n",
    "\n",
    "#Look at the structure of the object returned by the make_projection() function:\n",
    "str(polarised_edgelist_agent)"
   ]
  },
  {
   "cell_type": "markdown",
   "id": "zZw2Pq-sUO2d",
   "metadata": {
    "id": "zZw2Pq-sUO2d"
   },
   "source": [
    "\n",
    "Using the `str()` command, we see that `make_projection()` returns an edgelist with three columns, labelled \"u\" and \"v\", (the nodes in the dyad), and \"weight\" (the similarity of their responses).  \n",
    "(These names are arbitrary; they just follow the convention.)\n",
    "\n",
    "We will use this edgelist to define an igraph object."
   ]
  },
  {
   "cell_type": "code",
   "execution_count": null,
   "id": "FAvzvncFUL1t",
   "metadata": {
    "id": "FAvzvncFUL1t"
   },
   "outputs": [],
   "source": [
    "# define the graph\n",
    "polarised_agent_graph <- graph_from_data_frame(polarised_edgelist_agent , directed=FALSE)\n",
    "\n",
    "# plot the graph\n",
    "plot(\n",
    "    polarised_agent_graph,\n",
    "    vertex.size=2,\n",
    "    vertex.label=NA,\n",
    "    edge.width=E(polarised_agent_graph)$weight/20,\n",
    "    layout=layout.fruchterman.reingold,\n",
    "    main=\"Agent Projection\"\n",
    ")\n",
    "#report the number of nodes in the network\n",
    "paste(\"Nodes in graph:\", length(V(polarised_agent_graph)), sep=\" \")\n",
    "\n",
    "#report the edge density in the network; fully connected graph has density of 100%\n",
    "paste(\"Edge density:\", edge_density(polarised_agent_graph, loops = FALSE), sep=\" \")"
   ]
  },
  {
   "cell_type": "markdown",
   "id": "0iS4udssVDyQ",
   "metadata": {
    "id": "0iS4udssVDyQ"
   },
   "source": [
    "This network is impossible to make sense of because too many nodes are connected to each-other.\n",
    "\n",
    "Because of the parameters we selected when making the projection, it is fully connected -- every node is connected to every other node with some weight. We will explore methods for sparsifying the network below.\n",
    "\n",
    "But first we will make a **symbolic** projection. This view of the data visualizes variables as nodes, with edges weighted by how similarly the agents responded to them (again, a Manhattan distance; additional options will be added in future)."
   ]
  },
  {
   "cell_type": "code",
   "execution_count": null,
   "id": "d3b0c4c1-5357-49cc-95a0-523f05e95604",
   "metadata": {
    "id": "d3b0c4c1-5357-49cc-95a0-523f05e95604"
   },
   "outputs": [],
   "source": [
    "#Generate the symbolic projection of the survey:\n",
    "polarised_edgelist_symbolic <- make_projection(testdata_unpolarised[,-1],layer = \"symbolic\", threshold_method = \"raw_similarity\", method_value= -1, centre = TRUE)\n",
    "\n",
    "#Define the graph:\n",
    "polarised_symbolic_graph <- graph_from_data_frame(polarised_edgelist_symbolic , directed=FALSE)\n",
    "\n",
    "#plot it\n",
    "plot(\n",
    "    polarised_symbolic_graph,\n",
    "    vertex.size=2,\n",
    "    vertex.label=NA,\n",
    "    edge.width=(E(polarised_symbolic_graph)$weight+.5)^10,\n",
    "    layout=layout.fruchterman.reingold,\n",
    "    main=\"Symbolic projection\"\n",
    ")"
   ]
  },
  {
   "cell_type": "markdown",
   "id": "a3e45828-2a77-43b9-9300-158bb1bfc1db",
   "metadata": {
    "id": "a3e45828-2a77-43b9-9300-158bb1bfc1db"
   },
   "source": [
    "Even though we know that polarisation exists (since we controlled the parameter in the simulation algorithm), the network is so dense that we cannot see any group structure.\n",
    "\n",
    "Let's run that again with parameters set to drop as many weak edges as possible and get something more satisfying. We will discuss in detail what the differences in procedure are below:"
   ]
  },
  {
   "cell_type": "code",
   "execution_count": null,
   "id": "c4870815-c15a-4f04-9269-a77999c7bf67",
   "metadata": {
    "id": "c4870815-c15a-4f04-9269-a77999c7bf67"
   },
   "outputs": [],
   "source": [
    "#Generate the agent projection of the survey:\n",
    "polarised_edgelist_agent <-\n",
    "    make_projection(testdata_polarised[,-1],\n",
    "                    layer = \"agent\",\n",
    "                    threshold_method = \"target_lcc\",\n",
    "                    method_value= 1,\n",
    "                    centre = FALSE)\n",
    "\n",
    "#Define the graph:\n",
    "polarised_agent_graph <- graph_from_data_frame(polarised_edgelist_agent, directed=FALSE)\n",
    "\n",
    "#plot it\n",
    "plot(polarised_agent_graph,\n",
    "      vertex.size=2,\n",
    "      vertex.label=NA,\n",
    "      edge.width=0.2,\n",
    "      layout=layout.fruchterman.reingold,\n",
    "      main=\"Agent Projection\")\n",
    "\n",
    "#report the number of nodes left in the network\n",
    "paste(\"Nodes in graph:\", length(V(polarised_agent_graph)), sep=\" \")\n",
    "\n",
    "#report the edge density in the network; fully connected graph has density of 100%\n",
    "paste(\"Edge density:\", edge_density(polarised_agent_graph, loops = FALSE), sep=\" \")\n"
   ]
  },
  {
   "cell_type": "markdown",
   "id": "f447e188-7f35-4a92-8547-b4e994111367",
   "metadata": {
    "id": "f447e188-7f35-4a92-8547-b4e994111367"
   },
   "source": [
    "**Ah, much better!**\n",
    "\n",
    "Can you spot what was changed? Take a moment to review the code.\n",
    "\n",
    "Look especially at \"threshold_method\" and \"threshold_value\"\n",
    "\n",
    "Previously these were `threshold_method = \"raw_similarity\"` and `method_value= -1`\n",
    "\n",
    "This means that edges were dropped if they were lower than -1. Since this is impossible, no edges were dropped and a fully connected network was returned.\n",
    "\n",
    "**Warning:** there are some circumstances where you might want to do this (like a workshop), but as the sample size increases, the edgelist will get exponentially larger. This will become prohibitively large very quickly. In most cases, it is highly recommended to set a sane threshold.  \n",
    "\n",
    "Here we have changed the thresholding parameters as follows:\n",
    "\n",
    "`threshold_method = \"target_lcc\", method_value= 1`\n",
    "\n",
    "This applied a threshold to the edge weights returned, abandoning a large number of edges that added little but noise.\n",
    "\n",
    "Specifically, we found the edge threshold that drops as many weak edges as possible while retaining all nodes in a giant connected component.\n",
    "\n",
    "Note that density has already droppeded from 100% (fully connected) to probably somewhere around .2 (this will obviously change a bit every time you run the code and generate new networks; and depends especially on the polarisation parameter in the make_synthetic_data function).  \n",
    "\n",
    "Let's look in more detail at how this works."
   ]
  },
  {
   "cell_type": "markdown",
   "id": "c75ec135-09a2-4f5b-b090-479d9a3768c0",
   "metadata": {
    "id": "c75ec135-09a2-4f5b-b090-479d9a3768c0"
   },
   "source": [
    "# Thresholding\n",
    "\n",
    "Thresholding is a very important part of the procedure, as it is the only *researcher degree of freedom* in the method, apart from variable selection, but without it the graphs are not much use.\n",
    "\n",
    "### The problem with fully connected graphs\n",
    "If we take a projection of a survey and include all edges, it will be fully connected; i.e. every node will be connected to every other node. The edges will have different weights, with some stronger and some weaker, but it is still very difficult to make sense of such a system.  As we saw above, without sparsifying the network, there is little chance of identifying any meaningful structure, even if it exists.\n",
    "\n",
    "This could potentially be dealt with by generating the fully connected network and then applying some other method, e.g. backbone detection, but you would need to be sure that it makes sense to do so (ie. that the logic of the sparsification algorithm maps well onto the theoretical framework of attitude networks).\n",
    "\n",
    "Alternatively, we can identify an appropriate  threshold while we generate the projection. This has very substantial efficiency gains when dealing with large samples, since the size of the fully-connected edgelist will be exponentially larger than the sample size. For this reason, it makes sense to use at least light thresholding as soon as the sample size exceeds 1,000. (By the time the sample is 10,000 the agent-layer edgelist for a fully connected graph will already be 50 *million* rows.\n",
    "\n",
    "### Thresholding methods implemented in surveygraph\n",
    "Our aim is to remove as many edges as possible without compromising our ability to detect group structure. Surveygraph currently implements three methods: `target_lcc`, `target_ad`, and `raw_similarity`.  \n",
    "\n",
    "#### Method 1: `target_lcc` -- Target the size of the Largest Connected Component\n",
    "A **component** is a set of nodes that are all connecetd. In other words, every pair of nodes in a component has a path of edges between them.\n",
    "\n",
    "The **Largest Connected Component (LCC)** of a network is, somewhat obviously, the largest component in the network. In even moderately dense networks, this usually includes almost all of the nodes.\n",
    "\n",
    "To find the optimal threshold, the `target_lcc` thresholding method exploits a very well established feature of graphs: that we can usually remove a lot of edges before losing any (or many) nodes from the LCC. And there is usually a very sharp transition, where the LCC will disintegrate rapidly once we reach a specific threshold. The precise value of that threshold differs from network to network.\n",
    "\n",
    "In other words, you can remove a lot of edges before there is any appreciable effect on the largest component; but once that transition point is breached the LCC disintegrates rapidly. For a detailed background on the properties of component sizes, se _Networks_ by Mark Newman (Oxford University Press, 2018).\n",
    "\n",
    "There is excellent theoretical fit here: by using the coherence of the LCC as a guide for setting a sparsification threshold, we are identifying the optimal values for identifying a coherent group structure in the data. This assumes, (a) that one exists, and (b) that it makes sense that the whole sample will cohere (roughly) in a single group. In some contexts it might make sense to expect that multiple group structures will exist without \"joining,\" in which case setting a threshold with more fragmentation would make sense.   \n",
    "\n",
    "For reasonably-sized samples in relatively cohesive settings, however, `target_lcc` makes a lot of sense: we drop as many low-strength edges as we can whilst keeping the Largest Connected Component intact. In other words, the edges dropped are the weakest edges; and those not required for maintaining a cohesive (single) group structure.  Specifically, we rank the edges by weight, and keep removing the weakest ones until the proportion of nodes in the LCC reaches the target specified in the `method_value` parameter.\n",
    "\n",
    "#### Method 2: `target_ad` -- we skip over targeting average degree in this short workshop"
   ]
  },
  {
   "cell_type": "markdown",
   "id": "1e86bafd-20bd-4b8a-89d7-74ed1b94ee0e",
   "metadata": {
    "id": "1e86bafd-20bd-4b8a-89d7-74ed1b94ee0e"
   },
   "source": [
    "\n",
    "#### Method 3: `raw_similarity` Use a fixed threshold on raw similarity scores\n",
    "\n",
    "The target_lcc and target_ad methods are doing some heavy lifting for us: they are algorithmically identifying the appropriate raw edge threshold to use to achieve a target value (LCC size or average degree).\n",
    "\n",
    "We can bypass this, and to select a raw threshold value ourselves.\n",
    "\n",
    "You might have a particular raw threshold in mind for some methodological or theoretical reason, but usually to use this method intelligently we will need to know more about the properties of the systems produced with various raw threshold values.\n",
    "\n",
    "For this, the  we use the make_threshold_profile() command to generate a profile plot of the graph features at different values of raw threshold.\n"
   ]
  },
  {
   "cell_type": "code",
   "execution_count": null,
   "id": "3cc96fbc-ca76-4b93-9c69-62ef3325676e",
   "metadata": {
    "id": "3cc96fbc-ca76-4b93-9c69-62ef3325676e"
   },
   "outputs": [],
   "source": [
    "#generate the profile:\n",
    "profile<-make_threshold_profile(testdata_polarised[,-1], layer = \"agent\")\n",
    "\n",
    "str(profile)\n",
    "\n",
    "#plot it:\n",
    "\n",
    "par(mfrow=c(1,2))   #split the plotting window into two panels\n",
    "plot(profile$threshold, profile$ad)\n",
    "plot(profile$threshold, profile$lcc)"
   ]
  },
  {
   "cell_type": "markdown",
   "id": "33be2668-ac46-4e9e-bdc5-05ef35a9b82b",
   "metadata": {
    "id": "33be2668-ac46-4e9e-bdc5-05ef35a9b82b"
   },
   "source": [
    "This very clearly demonstrates that the breakup of the LCC (right) as the edge threshold increases is sudden and rapid.\n",
    "\n",
    "The changes to the LCC all occur over a small window of threshold values; and by the time the LCC starts to break up, most of the possible decrease in average degree (and hence sparsification) has already occured."
   ]
  },
  {
   "cell_type": "markdown",
   "id": "2965ad57-1226-49d2-9951-8dbc58d02e28",
   "metadata": {
    "id": "2965ad57-1226-49d2-9951-8dbc58d02e28"
   },
   "source": [
    "# Community detection\n",
    "\n",
    "\n"
   ]
  },
  {
   "cell_type": "markdown",
   "id": "8dff522f-0b29-4e75-ae25-9681e252ebad",
   "metadata": {
    "id": "8dff522f-0b29-4e75-ae25-9681e252ebad"
   },
   "source": [
    "\n",
    "**An important point: it is usually unreliable to analyze networks visually.** Humans see patterns in everything; and visualizations can easily be tweaked to find what we seek.\n",
    "\n",
    "In this section we will explore two methods for identifying clusters (often called *communities*) in the network.\n",
    "\n",
    "Many methods exist to find community structure in networks; and some caution is needed when deciding whether to apply them to attitude networks generated with survey graph.\n",
    "\n",
    "In general, a community is defined as a subset of nodes more densely connected internally than externally.\n",
    "\n",
    "In attitude networks, where edges represent similarity (e.e. homophily), this can be interpreted as subsets of the network where people have more similarity to people within the subset than outside of it. (Conceptually similar to a cluster analysis).\n",
    "\n",
    "We suggest two methods here; both of which are conceptually very compatible with the attitude network approach: the Newman-Girvan method and the Walktrap method. Both are implemented in igraph."
   ]
  },
  {
   "cell_type": "markdown",
   "id": "0cf535e7-cafa-4caf-9bbc-7b2daed309ab",
   "metadata": {
    "id": "0cf535e7-cafa-4caf-9bbc-7b2daed309ab"
   },
   "source": [
    "## Newman-Girvan community detection\n",
    "\n",
    "This method (1) finds those edges most likely to be connecting groups; (2) removes them one-by-one; (3) counts how many have to be removed to break the LCC into parts; and (4) identifies the clusters remaining.\n",
    "\n",
    "### Which edges? Introducing edge-betweenness\n",
    "They say \"all roads lead to Rome.\" But even if this is true, not all roads are equally likely to be on a given *path* to Rome. If I started in Florence, my path to Rome is unlikely to pass through Paris.\n",
    "\n",
    "This is because some roads are more important in connecting Rome to other places. For example, ancient Romans traveling between Egypt or North Africa and Rome would almost certainly have passed through Byzantium (now Istanbul). Take out the road through Istanbul, and these regions would no longer be connected to Rome.\n",
    "Technically, the path through Istanbul has high **edge betweenness**.\n",
    "\n",
    "Let's illustrate further with a diagram. Run the following code chunk before we continue:"
   ]
  },
  {
   "cell_type": "code",
   "execution_count": null,
   "id": "38e3dc37-520e-4f0f-9769-2a1d8aa67de0",
   "metadata": {
    "id": "38e3dc37-520e-4f0f-9769-2a1d8aa67de0"
   },
   "outputs": [],
   "source": [
    "g <- graph(edges=c(\"A\",\"B\", \"B\",\"C\", \"C\",\"A\", \"D\",\"E\", \"E\",\"F\", \"F\",\"D\", \"C\",\"D\"), directed=FALSE )\n",
    "\n",
    "plot(g, edge.label = edge_betweenness(g))"
   ]
  },
  {
   "cell_type": "markdown",
   "id": "dee9ff13-0e77-4ac6-b59f-b76b0770dc32",
   "metadata": {
    "id": "dee9ff13-0e77-4ac6-b59f-b76b0770dc32"
   },
   "source": [
    "This plots a graph with edges labelled by their edge betweenness.\n",
    "\n",
    "To calculate it, we work out the shortest path between each of the nodes.\n",
    "We now have a bundle of paths.\n",
    "We then tally up how often each edge-segment is required in one of the shortest paths.\n",
    "\n",
    "For edges A-B and E-F, this is just once -- they are their own shortest paths. The segment C-D falls on 9 different shortest paths! Intuitively, we can see that removing it will have the greatest impact in creating two communities.\n",
    "\n",
    "Let's see if the Newman-Girvan algorithm gets this right:   "
   ]
  },
  {
   "cell_type": "code",
   "execution_count": null,
   "id": "a3c94506-c94e-465a-92f3-43e62b184161",
   "metadata": {
    "id": "a3c94506-c94e-465a-92f3-43e62b184161"
   },
   "outputs": [],
   "source": [
    "communities<-cluster_edge_betweenness(\n",
    "  g,\n",
    "  weights = NULL,\n",
    "  directed = FALSE,\n",
    "  edge.betweenness = TRUE,          #whether to return the edge betweenness of removed edges\n",
    "  bridges = TRUE,                   #whether to return a list the edge removals\n",
    "  modularity = TRUE,                #whether to calculate the maximum modularity score\n",
    "  membership = TRUE                 #whether to return the membership of most modular solution\n",
    ")\n",
    "communities\n",
    "plot(communities,g)"
   ]
  },
  {
   "cell_type": "markdown",
   "id": "55de3971-c9cf-4871-9532-3717751f9665",
   "metadata": {
    "id": "55de3971-c9cf-4871-9532-3717751f9665"
   },
   "source": [
    "A big round of applause for the Newman-Girvan algorithm! It correctly found the edge which, if removed, sperates this graph into two unconnected communities.\n",
    "\n",
    "Let's try it on Zachary's Karate Club Network:"
   ]
  },
  {
   "cell_type": "code",
   "execution_count": null,
   "id": "ca1d78fa-7d74-4b78-8795-73043a1a69e2",
   "metadata": {
    "id": "ca1d78fa-7d74-4b78-8795-73043a1a69e2"
   },
   "outputs": [],
   "source": [
    "g_zachary<-make_graph(\"Zachary\")\n",
    "\n",
    "communities<-cluster_edge_betweenness(g_zachary)\n",
    "#we can simplify things a lot by relying on the defaults\n",
    "\n",
    "communities\n",
    "plot(communities,g_zachary)"
   ]
  },
  {
   "cell_type": "markdown",
   "id": "d59940b8-2847-4ecb-86ac-701dc09d9ac2",
   "metadata": {
    "id": "d59940b8-2847-4ecb-86ac-701dc09d9ac2"
   },
   "source": [
    "\n",
    "\n",
    "Now we can apply it to the network we were struggling to make sense of with visualisation alone:\n",
    "\n",
    "**Important note**\n",
    "In the following, we will compare the ground-truth group category (assigned when the data was simulated) with the category assigned by the community-detection algorithm.\n",
    "\n",
    "This requires that we keep ALL the nodes so that the vectors of categories align.\n",
    "\n",
    "(In most empirical analyses there is no ground truth available, so it is less important that all nodes are retained. Sometimes it might be better to lose a few nodes to achieve clearer structure.)\n",
    "\n",
    "Let's repeat the steps to generate and project the network.\n",
    "**check that all nodes are retained and rerun make_projection() with updated parameters if necessary.**\n",
    "Try to find the maximum value of method_value that retains all the nodes in the graph."
   ]
  },
  {
   "cell_type": "code",
   "execution_count": null,
   "id": "df080d69-3489-4a17-bce7-35f7fe440140",
   "metadata": {
    "id": "df080d69-3489-4a17-bce7-35f7fe440140"
   },
   "outputs": [],
   "source": [
    "#Set a new random seed so we get a different dataset;\n",
    "#set.seed() only used to make sure we get the same results as when we wrote the workshop document text\n",
    "set.seed(1111)\n",
    "\n",
    "#Simulate new moderately polarized data\n",
    "testdata_moderately_polarised <- make_synthetic_data(nrow=150, ncol=10, polarisation=.2, minority =0.5)\n",
    "\n",
    "#Generate the agent projection of the survey:\n",
    "moderately_polarised_edgelist_agent <- make_projection(testdata_moderately_polarised[,-1],\n",
    "                                        layer = \"agent\",\n",
    "                                        threshold_method = \"raw_similarity\",\n",
    "                                        method_value= .55,\n",
    "                                        centre = FALSE)\n",
    "\n",
    "#Define the graph:\n",
    "moderately_polarised_agent_graph <-\n",
    "      graph_from_data_frame(moderately_polarised_edgelist_agent , directed=FALSE)\n",
    "\n",
    "#plot it\n",
    "plot(moderately_polarised_agent_graph,\n",
    "      vertex.size=2,\n",
    "      vertex.label=NA,\n",
    "      edge.width=0.2,\n",
    "      layout=layout.fruchterman.reingold,\n",
    "      main=\"Agent Projection\")\n",
    "\n",
    "summary(moderately_polarised_agent_graph)\n",
    "\n",
    "#report the number of nodes left in the network\n",
    "paste(\"Nodes in graph:\", length(V(moderately_polarised_agent_graph)), sep=\" \")\n",
    "\n",
    "#report the edge density in the network; fully connected graph has density of 100%\n",
    "paste(\"Edge density:\", edge_density(moderately_polarised_agent_graph, loops = FALSE), sep=\" \")\n"
   ]
  },
  {
   "cell_type": "markdown",
   "id": "f8ddb0b8-e2c1-43ad-9660-32824625950f",
   "metadata": {
    "id": "f8ddb0b8-e2c1-43ad-9660-32824625950f"
   },
   "source": [
    "And now we can run the Newman-Girvan community detection algorithm:"
   ]
  },
  {
   "cell_type": "code",
   "execution_count": null,
   "id": "b6c826c1-bc04-47ac-b67a-9ed6ddeb17c4",
   "metadata": {
    "id": "b6c826c1-bc04-47ac-b67a-9ed6ddeb17c4"
   },
   "outputs": [],
   "source": [
    "girvan_newman <- cluster_edge_betweenness(moderately_polarised_agent_graph)\n",
    "\n",
    "#Extract the communities from the Girvan-Newman result and assign them to the node colour attribute in the graph\n",
    "V(moderately_polarised_agent_graph)$color <- membership(girvan_newman)\n",
    "\n",
    "#plot it\n",
    "plot(moderately_polarised_agent_graph, vertex.size = 5, vertex.label = NA)"
   ]
  },
  {
   "cell_type": "markdown",
   "id": "4954a6a3-1633-424b-b88f-007cef4f6dbb",
   "metadata": {
    "id": "4954a6a3-1633-424b-b88f-007cef4f6dbb"
   },
   "source": [
    "# Comparing to a ground truth\n",
    "In this case we have a ground truth available -- the \"group\" variable returned by the make_synthetic_data() function.\n",
    "\n",
    "Let's tabulate the ground truth against the assignment of the Newman-Girvan Algorithm:"
   ]
  },
  {
   "cell_type": "code",
   "execution_count": null,
   "id": "c4245ea1-344d-484c-81fa-49c667834f16",
   "metadata": {
    "id": "c4245ea1-344d-484c-81fa-49c667834f16"
   },
   "outputs": [],
   "source": [
    "table(testdata_moderately_polarised$group,girvan_newman$membership)\n",
    "chisq.test(table(testdata_moderately_polarised$group,girvan_newman$membership))"
   ]
  },
  {
   "cell_type": "markdown",
   "id": "ea0983c0-9e44-4158-859d-30ea46f03f35",
   "metadata": {
    "id": "ea0983c0-9e44-4158-859d-30ea46f03f35"
   },
   "source": [
    "The Girvan-Newman algorithm has introduced several nuisance categories (many containing just one node), but overall the identification of two large groups is not bad; and the classification of people to groups is statistically significant. Although some agents are assigned to the wrong groups, on the whole it does a decent job.\n",
    "\n",
    "If this is not the case in your output, try repeating the steps again (generating the graph, projecting it, finding communities). You will see that the efficacy differs from case-to-case.\n",
    "\n"
   ]
  },
  {
   "cell_type": "markdown",
   "id": "4eb40cad-b7e6-432d-a79d-73a424e5098f",
   "metadata": {
    "id": "4eb40cad-b7e6-432d-a79d-73a424e5098f"
   },
   "source": [
    "## Walktrap community detection\n",
    "\n",
    "The walktrap algorithm uses one of the simplest and versatile methods in graph theory: a random walker.\n",
    "\n",
    "Each iteration, we choose a node at random, and set that as the start point for the random walker. The walker looks around to see what nodes are accessible from the one they are on and chooses one at random (accounting for edge weights etc.)\n",
    "They follow the same process for a specified number of steps.\n",
    "\n",
    "We iterate over these steps a large number of times, generating a bundle of random walks.\n",
    "\n",
    "The core idea is that the random walker will get \"stuck\" within communities, and will only occasionally transition between communities. This can be assessed by analyzing the bundle of random walks.\n",
    "\n",
    "This logic fits very well with the attitude network framework, since we know that (from the homophily principle) that people are more likely to (vountarily) interact with people  similar to them. To keep this logic tight, you  might want to set short random walk lengths in the walktrap paramters.  "
   ]
  },
  {
   "cell_type": "code",
   "execution_count": null,
   "id": "10b14a36-dd36-49cc-b6f9-4427aab13b90",
   "metadata": {
    "id": "10b14a36-dd36-49cc-b6f9-4427aab13b90"
   },
   "outputs": [],
   "source": [
    "#Run the Walktrap algorithm\n",
    "walktrap <- cluster_walktrap(moderately_polarised_agent_graph,steps=2)\n",
    "#Note that we are using the set a short random walk length to be consistent with our theoretical framework\n",
    "\n",
    "#Extract the communities from the community detection result and assign them to the node colour attribute in the graph\n",
    "V(moderately_polarised_agent_graph)$color <- membership(walktrap)\n",
    "\n",
    "#plot it\n",
    "plot(moderately_polarised_agent_graph, vertex.size = 5, vertex.label = NA)"
   ]
  },
  {
   "cell_type": "markdown",
   "id": "d2f2f663-db82-49dc-9d6b-4d67d6894b05",
   "metadata": {
    "id": "d2f2f663-db82-49dc-9d6b-4d67d6894b05"
   },
   "source": [
    "### Comparing to ground truth\n",
    "Again,  we have a ground truth available -- the \"group\" variable returned by the make_synthetic_data() function.\n",
    "\n",
    "Let's tabulate the ground truth against the assignment of the Walktrap algorithm:\n"
   ]
  },
  {
   "cell_type": "code",
   "execution_count": null,
   "id": "3e971daa-40e6-45fc-8647-0a2437e5bbee",
   "metadata": {
    "id": "3e971daa-40e6-45fc-8647-0a2437e5bbee"
   },
   "outputs": [],
   "source": [
    "table(testdata_moderately_polarised$group, walktrap$membership)\n",
    "chisq.test(table(testdata_moderately_polarised$group, walktrap$membership))"
   ]
  },
  {
   "cell_type": "markdown",
   "id": "ada5c806-8e20-43fd-9628-eb7b474e4963",
   "metadata": {
    "id": "ada5c806-8e20-43fd-9628-eb7b474e4963"
   },
   "source": [
    "As you can see, the basic procedures for community detection in igraph are usually similar regardless of which method you're applying.\n",
    "However, you should be careful to ensure that the logic of the community detection algorithm aligns with the logic of your theoretical framework and analysis -- just because you *can* do something doesn't mean it makes sense to do so."
   ]
  },
  {
   "cell_type": "markdown",
   "id": "1mImti_8lxsD",
   "metadata": {
    "id": "1mImti_8lxsD"
   },
   "source": [
    "--------------------------------------------------"
   ]
  },
  {
   "cell_type": "markdown",
   "id": "64abacd6-e611-4896-88b9-57c7f3a8ebd1",
   "metadata": {
    "id": "64abacd6-e611-4896-88b9-57c7f3a8ebd1"
   },
   "source": [
    "## A worked example with real data"
   ]
  },
  {
   "cell_type": "markdown",
   "id": "3c87b4be-ebde-4617-8c08-9f8b9cc99d46",
   "metadata": {
    "id": "3c87b4be-ebde-4617-8c08-9f8b9cc99d46"
   },
   "source": [
    "In this example we take the ESS round 10 data for the UK.\n",
    "\n",
    "We have preselected variables relating to trust in various institutions, and participants' self-reported position on the Left/Right ideology scale:\n",
    "\n",
    "ESS variable|Description\n",
    "---|---\n",
    "lrscale|Self-position on Left-Right scale\n",
    "trstprl|trust in country’s parliament\n",
    "trstlgl|trust in the legal system\n",
    "trstplc|trust in the police\n",
    "trstplt|trust in politicians\n",
    "trstprt|trust in political parties\n",
    "trstep|trust in the European Parliament\n",
    "trstun|trust in the UN\n",
    "trstsci|trust in scientists\n",
    "\n",
    "We have dropped cases with any missing data for those variables.\n",
    "\n",
    "We selected variables *ad hoc* that we expected to have been implicated in social polarisation in the UK at the time of data collection for the relevant ESS round.\n",
    "\n",
    "**Note that variable selection is the second important researcher degree of freedom for this method, but dealing with it in any detail is beyond the scope of this workshop.**\n"
   ]
  },
  {
   "cell_type": "markdown",
   "id": "d39f0bd9-ee81-4d13-8b55-76bc49544d7b",
   "metadata": {
    "id": "d39f0bd9-ee81-4d13-8b55-76bc49544d7b"
   },
   "source": [
    "### Preparing the data\n",
    "First, read in the data and assign to an object. We have pre-prepared the uploaded data by already dropping cases with NA values.  "
   ]
  },
  {
   "cell_type": "code",
   "execution_count": null,
   "id": "d8fcbc98-2fd2-403e-959f-fd8e1e26dd37",
   "metadata": {
    "id": "d8fcbc98-2fd2-403e-959f-fd8e1e26dd37"
   },
   "outputs": [],
   "source": [
    "ESS10_GB <- read.csv(\"https://www.dropbox.com/s/qb0yy50y51a8s3y/ESS10_GB.csv?dl=1\", colClasses=c(rep(\"numeric\",9)))\n",
    "\n",
    "str(ESS10_GB)"
   ]
  },
  {
   "cell_type": "markdown",
   "id": "5f470ab1-d06c-4bf6-85d2-709360bdebe8",
   "metadata": {
    "id": "5f470ab1-d06c-4bf6-85d2-709360bdebe8"
   },
   "source": [
    "When generating the network, we  will hold back  one variable to model as an outcome. Afterwards we will see if there is any association between network position and self-reported position on the Left-Right scale. This is a basic check of the usefulness of the model for understanding how people's attitudes are positioning them in a structured social field.\n",
    "\n",
    "We could use the [,-1] indexing format throughout, but it's easy to make a mistake doing it that way.\n",
    "Instead, we assign this column to a holding variable and remove it from the main dataframe.\n",
    "\n",
    "(Note that there are many ways to do everything in R: you can choose any way you like, but it is wise to favour code that is easier to read, easier to find errors in, and hence more reliable.)"
   ]
  },
  {
   "cell_type": "code",
   "execution_count": null,
   "id": "d893438c-2583-4634-9bc6-f0541495d3f5",
   "metadata": {
    "id": "d893438c-2583-4634-9bc6-f0541495d3f5"
   },
   "outputs": [],
   "source": [
    "lrscale<-ESS10_GB[,1] \t#Assign to a new variable\n",
    "ESS10_GB<-ESS10_GB[,-1]\t#drop from the main dataframe\n",
    "str(ESS10_GB)"
   ]
  },
  {
   "cell_type": "markdown",
   "id": "e3c6a073-8a23-450d-8368-658b8121e4d3",
   "metadata": {
    "id": "e3c6a073-8a23-450d-8368-658b8121e4d3"
   },
   "source": [
    "It is too computationally intensive to make threshold profiles with such a large sample in a workshop, so we have already identified the largest threshold that retains all the participants in the LCC.\n",
    "\n",
    "If you are doing this in your own time, you can run the following code to make and plot the threshold profiles:\n",
    "\n",
    "```\n",
    "profile<-make_threshold_profile(ESS10_GB, layer = \"agent\")\n",
    "par(mfrow=c(1,2))   #split the plotting window into two panels\n",
    "plot(profile$threshold, profile$ad)\n",
    "plot(profile$threshold, profile$lcc)\n",
    "```\n"
   ]
  },
  {
   "cell_type": "markdown",
   "id": "b5c3511d-2b1b-48c7-9db7-01c06624b35e",
   "metadata": {
    "id": "b5c3511d-2b1b-48c7-9db7-01c06624b35e"
   },
   "source": [
    "### Make the agent projection, define the graph, and plot it:"
   ]
  },
  {
   "cell_type": "code",
   "execution_count": null,
   "id": "ddf7f533-a329-4017-a361-2f7b0f8980d5",
   "metadata": {
    "id": "ddf7f533-a329-4017-a361-2f7b0f8980d5"
   },
   "outputs": [],
   "source": [
    "#make the projection\n",
    "ESS10_GB_edgelist_agent<-\n",
    "      make_projection(ESS10_GB,\n",
    "                      layer = \"agent\",\n",
    "                      threshold_method = \"raw_similarity\",\n",
    "                      method_value = .555,\n",
    "                      centre = FALSE)\n",
    "\n",
    "#Define the graph:\n",
    "ESS10_GB_agent_network <- graph_from_data_frame(ESS10_GB_edgelist_agent , directed=FALSE)\n",
    "\n",
    "#plot it; drop edges to speed up rendering\n",
    "plot(ESS10_GB_agent_network , vertex.size=2, vertex.label=NA, edge.width=NA, main=\"Agent Projection\")\n",
    "\n",
    "#report the number of nodes left in the network\n",
    "paste(\"Nodes in graph:\", length(V(ESS10_GB_agent_network )), sep=\" \")\n",
    "\n",
    "#report the edge density in the network; fully connected graph has density of 100%\n",
    "paste(\"Edge density:\", edge_density(ESS10_GB_agent_network , loops = FALSE), sep=\" \")\n"
   ]
  },
  {
   "cell_type": "markdown",
   "id": "9b892c4e-88b4-4f34-baf9-2cd43b02c43f",
   "metadata": {
    "id": "9b892c4e-88b4-4f34-baf9-2cd43b02c43f"
   },
   "source": [
    "### Community detection:\n",
    "Now we can detect and plot communities. Because this is a large graph and we don't have time to spare, we are using the walktrap agorithm.\n"
   ]
  },
  {
   "cell_type": "code",
   "execution_count": null,
   "id": "c19589cd-e413-4c4b-bfbe-b5c8d39d82a3",
   "metadata": {
    "id": "c19589cd-e413-4c4b-bfbe-b5c8d39d82a3"
   },
   "outputs": [],
   "source": [
    "communities <- cluster_walktrap(ESS10_GB_agent_network)\n",
    "\n",
    "#Extract the communities from the result and assign them to the node colour attribute in the graph\n",
    "V(ESS10_GB_agent_network )$color <- membership(communities)\n",
    "\n",
    "#plot it\n",
    "plot(ESS10_GB_agent_network , vertex.size = 10, vertex.label = NA, edge.width=NA,)"
   ]
  },
  {
   "cell_type": "markdown",
   "id": "a88d829d-7fc4-4448-a3d9-620f804701de",
   "metadata": {
    "id": "a88d829d-7fc4-4448-a3d9-620f804701de"
   },
   "source": [
    "### Reality check: does network position correspond with self-reported left-right ideology?\n",
    "\n",
    "The important question, from the attitude network perspective is \"would these groups be useful ways for people to make sense of each-other socially?\"\n",
    "\n",
    "Now we have communities detected, we can see whether membership of one community or another is associated with self-reported ideology:\n",
    "\n",
    "First, tabulate the communities against Left-Right position:"
   ]
  },
  {
   "cell_type": "code",
   "execution_count": null,
   "id": "c8326d98-2b90-4b66-9d56-e1ad992d7922",
   "metadata": {
    "id": "c8326d98-2b90-4b66-9d56-e1ad992d7922"
   },
   "outputs": [],
   "source": [
    "table(lrscale,membership(communities))"
   ]
  },
  {
   "cell_type": "markdown",
   "id": "993f2d7d-9788-4b3d-beb2-debaf67683ca",
   "metadata": {
    "id": "993f2d7d-9788-4b3d-beb2-debaf67683ca"
   },
   "source": [
    "Note that the clustering process is stochastic; it comes out slightly differently each time.\n",
    "\n",
    "It's likely that you'll get at least one nuisance category that \"use up\" degrees of freedom for little benefit. If you have several, and you are confident they are not meaningful groups, you could combine them into one small category.\n",
    "\n",
    "For example, the following would combine groups 6 and 5:\n",
    "\n",
    "`\n",
    "adj_com<-sub(6,5,membership(communities))\n",
    "`"
   ]
  },
  {
   "cell_type": "markdown",
   "id": "243971d9-ddd8-4894-b829-032af1ecc759",
   "metadata": {
    "id": "243971d9-ddd8-4894-b829-032af1ecc759"
   },
   "source": [
    "For the same reason, it makes sense to combine the extremes on the left-right scale:\n"
   ]
  },
  {
   "cell_type": "code",
   "execution_count": null,
   "id": "751bbb75-7e27-4805-b8d4-765537d76771",
   "metadata": {
    "id": "751bbb75-7e27-4805-b8d4-765537d76771"
   },
   "outputs": [],
   "source": [
    "binned_lrscale<-cut(lrscale, breaks = c(0,3,5,6,8,10),include.lowest = T,right = F)\n",
    "table(binned_lrscale,lrscale)"
   ]
  },
  {
   "cell_type": "markdown",
   "id": "2cde1290-815c-49bc-a31a-f0c80b6845b8",
   "metadata": {
    "id": "2cde1290-815c-49bc-a31a-f0c80b6845b8"
   },
   "source": [
    "Now we can tabulate and run a chi-square test of association:"
   ]
  },
  {
   "cell_type": "code",
   "execution_count": null,
   "id": "dda648be-7cae-42af-a744-706d5dcf577e",
   "metadata": {
    "id": "dda648be-7cae-42af-a744-706d5dcf577e"
   },
   "outputs": [],
   "source": [
    "chisq<-chisq.test(binned_lrscale,membership(communities))\n",
    "chisq\n",
    "chisq$stdres\t\t#interpretable as z scores; 1.96 generally considered significant"
   ]
  },
  {
   "cell_type": "markdown",
   "id": "20a9e9b2-a40f-49ac-a045-948aef5ecb58",
   "metadata": {
    "id": "20a9e9b2-a40f-49ac-a045-948aef5ecb58"
   },
   "source": [
    "Note that the community labels can change every time the walktrap algorithm is run, so we will try to describe some key features without referring to community label numbers:\n",
    "\n",
    "* Being in one of the communities is  associated with being towards the extreme left or centre on the self-expressed left/right scale.\n",
    "* Being in one of the communities is associated with being in the exact middle of the left/right scale and not extreme right\n",
    "* Being in one of the communities is characterised by being not-centrist, not extreme left, but more extreme right\n",
    "\n",
    "Note that the main point here is not to make a good prediction of people's political orientation on the left/right scale; but rather to show some confirmatory evidence that the network is providing meaningful social information.\n",
    "\n",
    "(It will not always do so; the variables need to map on to dimensions that people are actively using to make sense of each-other in a given society.)"
   ]
  },
  {
   "cell_type": "markdown",
   "id": "d84106b7-32b7-4384-bae7-396114e4626a",
   "metadata": {
    "id": "d84106b7-32b7-4384-bae7-396114e4626a"
   },
   "source": [
    "### To get a sense of how the communities are positioned in the network, plot again and label vertices by community"
   ]
  },
  {
   "cell_type": "code",
   "execution_count": null,
   "id": "54268587-ab26-4037-9169-83ec10045935",
   "metadata": {
    "id": "54268587-ab26-4037-9169-83ec10045935"
   },
   "outputs": [],
   "source": [
    "plot(ESS10_GB_agent_network , vertex.size = 10, vertex.label = membership(communities), edge.width=NA,)"
   ]
  },
  {
   "cell_type": "markdown",
   "id": "4af94eee-48d2-4c74-98c9-35e4356ccb81",
   "metadata": {
    "id": "4af94eee-48d2-4c74-98c9-35e4356ccb81"
   },
   "source": [
    "### Symbolic projections\n",
    "Let's plot the symbolic projections for each community.\n",
    "There is a lot of repetition in the following code, so it's simpler than it looks.\n",
    "\n",
    "#### Create a new subsetted dataframe for each community\n"
   ]
  },
  {
   "cell_type": "code",
   "execution_count": null,
   "id": "b3c63bb2-1d06-4f40-9c9f-5823bf84ab4f",
   "metadata": {
    "id": "b3c63bb2-1d06-4f40-9c9f-5823bf84ab4f"
   },
   "outputs": [],
   "source": [
    "ESS10_GB_com1<-ESS10_GB[which(membership(communities)==1), ]\n",
    "str(ESS10_GB_com1)\n",
    "ESS10_GB_com2<-ESS10_GB[which(membership(communities)==2), ]\n",
    "str(ESS10_GB_com2)\n",
    "ESS10_GB_com3<-ESS10_GB[which(membership(communities)==3), ]\n",
    "str(ESS10_GB_com3)\n",
    "ESS10_GB_com4<-ESS10_GB[which(membership(communities)==4), ]\n",
    "str(ESS10_GB_com4)"
   ]
  },
  {
   "cell_type": "markdown",
   "id": "3e070df7-d21b-4e6e-b6a1-52c947566b9b",
   "metadata": {
    "id": "3e070df7-d21b-4e6e-b6a1-52c947566b9b"
   },
   "source": [
    "#### Make the symbolic projections"
   ]
  },
  {
   "cell_type": "code",
   "execution_count": null,
   "id": "0d85900b-5440-4015-8a7b-d5ee8681920e",
   "metadata": {
    "id": "0d85900b-5440-4015-8a7b-d5ee8681920e"
   },
   "outputs": [],
   "source": [
    "ESS10_GB_com1_edgelist_symbolic<-make_projection(ESS10_GB_com1, layer = \"symbolic\", threshold_method = \"target_lcc\", method_value = 1, centre = TRUE)\n",
    "ESS10_GB_com2_edgelist_symbolic<-make_projection(ESS10_GB_com2, layer = \"symbolic\", threshold_method = \"target_lcc\", method_value = 1, centre = TRUE)\n",
    "ESS10_GB_com3_edgelist_symbolic<-make_projection(ESS10_GB_com3, layer = \"symbolic\", threshold_method = \"target_lcc\", method_value = 1, centre = TRUE)\n",
    "ESS10_GB_com4_edgelist_symbolic<-make_projection(ESS10_GB_com4, layer = \"symbolic\", threshold_method = \"target_lcc\", method_value = 1, centre = TRUE)"
   ]
  },
  {
   "cell_type": "markdown",
   "id": "a82477b5-cfcb-40d7-ac1a-b557cd753bae",
   "metadata": {
    "id": "a82477b5-cfcb-40d7-ac1a-b557cd753bae"
   },
   "source": [
    "#### Define the graphs:"
   ]
  },
  {
   "cell_type": "code",
   "execution_count": null,
   "id": "38e217fe-f09e-40f0-990b-e16c5ea0ed58",
   "metadata": {
    "id": "38e217fe-f09e-40f0-990b-e16c5ea0ed58"
   },
   "outputs": [],
   "source": [
    "ESS10_GB_com1_symbolic_network <- graph.data.frame(ESS10_GB_com1_edgelist_symbolic, directed=FALSE)\n",
    "ESS10_GB_com2_symbolic_network <- graph.data.frame(ESS10_GB_com2_edgelist_symbolic, directed=FALSE)\n",
    "ESS10_GB_com3_symbolic_network <- graph.data.frame(ESS10_GB_com3_edgelist_symbolic, directed=FALSE)\n",
    "ESS10_GB_com4_symbolic_network <- graph.data.frame(ESS10_GB_com4_edgelist_symbolic, directed=FALSE)"
   ]
  },
  {
   "cell_type": "markdown",
   "id": "d27a35e2-2c4e-43f1-9492-4178a6d000d5",
   "metadata": {
    "id": "d27a35e2-2c4e-43f1-9492-4178a6d000d5"
   },
   "source": [
    "#### Set meaningful vertex names:"
   ]
  },
  {
   "cell_type": "code",
   "execution_count": null,
   "id": "c9484d06-aff9-4f33-90af-441a4ef903f5",
   "metadata": {
    "id": "c9484d06-aff9-4f33-90af-441a4ef903f5"
   },
   "outputs": [],
   "source": [
    "V(ESS10_GB_com1_symbolic_network)$name<-variable.names(ESS10_GB)\n",
    "V(ESS10_GB_com2_symbolic_network)$name<-variable.names(ESS10_GB)\n",
    "V(ESS10_GB_com3_symbolic_network)$name<-variable.names(ESS10_GB)\n",
    "V(ESS10_GB_com4_symbolic_network)$name<-variable.names(ESS10_GB)"
   ]
  },
  {
   "cell_type": "markdown",
   "id": "174fb5e0-31e8-4514-bd93-01f9de40ecc8",
   "metadata": {
    "id": "174fb5e0-31e8-4514-bd93-01f9de40ecc8"
   },
   "source": [
    "#### Spread the edge weights a bit to allow them to be visually differentiated:\n"
   ]
  },
  {
   "cell_type": "code",
   "execution_count": null,
   "id": "beb8ff7d-c13c-454e-b431-9b448d4b4ee2",
   "metadata": {
    "id": "beb8ff7d-c13c-454e-b431-9b448d4b4ee2"
   },
   "outputs": [],
   "source": [
    "E(ESS10_GB_com1_symbolic_network)$weight_adj<- (E(ESS10_GB_com1_symbolic_network)$weight+.5)^10\n",
    "E(ESS10_GB_com2_symbolic_network)$weight_adj<- (E(ESS10_GB_com2_symbolic_network)$weight+.5)^10\n",
    "E(ESS10_GB_com3_symbolic_network)$weight_adj<- (E(ESS10_GB_com3_symbolic_network)$weight+.5)^10\n",
    "E(ESS10_GB_com4_symbolic_network)$weight_adj<- (E(ESS10_GB_com4_symbolic_network)$weight+.5)^10\n"
   ]
  },
  {
   "cell_type": "code",
   "execution_count": null,
   "id": "3c21aa1f-58e1-42f5-956d-b0d8eb8dc786",
   "metadata": {
    "id": "3c21aa1f-58e1-42f5-956d-b0d8eb8dc786"
   },
   "outputs": [],
   "source": [
    "###And plot:\n",
    "\n",
    "#Set up the plotting area with four panels:\n",
    "par(mfrow=c(2,2))\n",
    "\n",
    "#adj_edgeweights<-(E(ESS08_GB_com4_symbolic_network)$weight-mean(E(ESS08_GB_com4_symbolic_network)$weight)+1)^10\n",
    "#hist(adj_edgeweights)\n",
    "plot(ESS10_GB_com1_symbolic_network, edge.width = E(ESS10_GB_com1_symbolic_network)$weight_adj, vertex.shape=\"rectangle\", vertex.color = \"SkyBlue2\", vertex.size=80, vertex.size2=25, layout=layout_in_circle, main=\"Community 1\")\n",
    "plot(ESS10_GB_com2_symbolic_network, edge.width = E(ESS10_GB_com2_symbolic_network)$weight_adj, vertex.shape=\"rectangle\", vertex.color = \"SkyBlue2\", vertex.size=80, vertex.size2=25, layout=layout_in_circle, main=\"Community 2\")\n",
    "plot(ESS10_GB_com3_symbolic_network, edge.width = E(ESS10_GB_com3_symbolic_network)$weight_adj, vertex.shape=\"rectangle\", vertex.color = \"SkyBlue2\", vertex.size=80, vertex.size2=25, layout=layout_in_circle, main=\"Community 3\")\n",
    "plot(ESS10_GB_com4_symbolic_network, edge.width = E(ESS10_GB_com4_symbolic_network)$weight_adj, vertex.shape=\"rectangle\", vertex.color = \"SkyBlue2\", vertex.size=80, vertex.size2=25, layout=layout_in_circle, main=\"Community 4\")"
   ]
  },
  {
   "cell_type": "markdown",
   "id": "5VCB3kmamZ5Y",
   "metadata": {
    "id": "5VCB3kmamZ5Y"
   },
   "source": [
    "A theoretical note: while the symbolic projection gives us something like a \"belief network,\" what we are doing with it is quite different: we are expecting the coordination of attitudes represented in this structure to have functions of binding (within groups) and differentiating (between groups)."
   ]
  },
  {
   "cell_type": "markdown",
   "id": "sFS5TWMfZb69",
   "metadata": {
    "id": "sFS5TWMfZb69"
   },
   "source": [
    "# Thus ends the tutorial. We hope that you have enjoyed it and have found it useful.\n",
    "\n",
    "You might get some satisfaction from this Shiny app that lets you play around with the method with a point-and-click interface.  \n",
    "\n",
    "https://cillianmacaodh.shinyapps.io/surveygraph/\n",
    "\n",
    "Credit: Cillian McHugh"
   ]
  },
  {
   "cell_type": "markdown",
   "id": "e421b571-3db1-432e-939e-b46ca1d08d64",
   "metadata": {
    "id": "e421b571-3db1-432e-939e-b46ca1d08d64"
   },
   "source": [
    "# Appendix 1: surveygraph API & Grammar:\n",
    "\n",
    "three functions:\n",
    "\n",
    "### `make_synthetic_data(nrow, ncol, polarisation)`\n",
    "\n",
    "#### Description\n",
    "A very basic questionnaire simulation function, primarily useful for simulating data with group-based polairzation. Returns a data frame of simulated data, with the first column (named `group`) being a grouping variable and the remaining columns (named `item_1, item_2, .. , item_N`) being data simulated to resemble answers to Likert-type items (item response range 1:10).\n",
    "\n",
    "#### Arguments:\n",
    "`nrows`: integer, indicating the number of rows in the simulated data\n",
    "`ncol`: integer, indicating the number of \"variables\" (columns) in the simulated data\n",
    "`polarisation`: integer, indicating the amount of polarisation to simulate.\n",
    "\n",
    "### `make_threshold_profile(data, layer = c(\"agent\", \"symbolic\")`\n",
    "#### Description\n",
    "This function sweeps through a range of thresholds and returns the average degree and proportion of nodes in the LCC at each threshold.\n",
    "\n",
    "#### Arguments:\n",
    "`data`, a dataframe with rows representing agents and columns representing symbolic variables (ie. no identifier or grouping columns).\n",
    "\n",
    "`layer`, a character string with no default, indicating which layer of the bipartite network to project. If set to \"agent\" then nodes will be agents and edges will be similarity across variables; and if set to \"symbolic\" nodes will be variables and edges will be similarity across people.\n",
    "\n",
    "### `make_projection(data, layer = c(\"agent\", \"symbolic\"], similarity_metric = \"manhattan\", threshold_method = c(\"target_lcc\",\"target_ad\", \"raw_similarity\"), method_value, centre)`\n",
    "#### Description\n",
    "This function sweeps through a range of raw threshold values and generates a graph with each raw threshold. It returns the proportion of nodes included in the LCC, and the Average Degree for the graph generated with each raw threshold value. (TODO Sam please check)\n",
    "This will be computationally intensive for very large samples.\n",
    "#### Arguments:\n",
    "`data`, a dataframe with rows representing agents and columns representing symbolic variables (ie. no identifier column)\n",
    "\n",
    "`layer`, a character string with no default, indicating which layer of the bipartite netowork to project. If set to \"agent\" then nodes will be agents and edges will be similarity across variables; and if set to \"symbolic\" nodes will be variables and edges will be similarity across people.\n",
    "\n",
    "`similarity_metric`, a character string indicating the similarity metric to be used to calculate edge weights. The default is \"manhattan\"; other metrics will be possible.\n",
    "\n",
    "`threshold_method`, a character string indicating the thresholding method to be used.  \n",
    "* \"target_lcc\" (searches for the Largest Connected Component (LCC) size specified by method_value)\n",
    "* \"target_ad\" (searches for the Average Degree (AD)  specified by method_value)\n",
    "* \"raw_similarity\" (drops all edges below a similarity threshold specified by method_value)\n",
    "\n",
    "`method_value`, a number indicating the value of the threshold to be used. Note that the meaning of this number, and its allowable range, depends on the method specified in the \"method_value\" parameter.\n",
    "* if target_lcc, always between 0 and 1\n",
    "* if target_ad, always between 0 and 1\n",
    "* if raw_similarity, always between -1 and 1\n",
    "\n",
    "`centre`, a logical variable. If TRUE the edge weights (similarity scores) will be centred on zero, meaning some will be negative. This may cause problems with common layout algorithms which expect positive edge weights. If FALSE the edge weights will be delivered raw. For Manhattan similarity at least, these will all be positive.\n",
    "\n",
    "### prepare_data()\n",
    "      This will be added in future.\n",
    "\n",
    "\n"
   ]
  },
  {
   "cell_type": "markdown",
   "id": "8d4b769f-9fe9-4a2e-888b-eac9d3380b05",
   "metadata": {
    "id": "8d4b769f-9fe9-4a2e-888b-eac9d3380b05"
   },
   "source": [
    "# Appendix 2: Potentially Useful References\n",
    "\n",
    "## Mathematical and computational basis, and real world applications\n",
    "\n",
    "### Blau, P. M. (1977). A Macrosociological Theory of Social Structure. American Journal of Sociology, 83(1), 26–54. https://doi.org/10.1086/226505)\n",
    "Blau proposed a very similar model of homophilic association for socio-demographic characteristics. This became quite influential in structural sociology but was not, to our knowledge, extended to model attitudes. This paper is particularly useful, however, to justify using surveygraph to model other kinds of associative networks.  \n",
    "\n",
    "### Breiger, R. L. (1974). The duality of persons and groups. Social Forces, 53(2), 181. https://doi.org/10.2307/2576011\n",
    "While this work does not consider attitudes, it makes a clear argument for the bipartite metaphor in understanding the reciprocal, co-constitutive, relationship between individuals and groups. In other words, it establishes a basis for the bipartite structure as a means for capturing what is usually referred to in the social identity approach as \"interactionism.\"\n",
    "\n",
    "### Breiger, R. L., Schoon, E., Melamed, D., Asal, V., & Rethemeyer, R. K. (2014). Comparative configurational analysis as a two-mode network problem: A study of terrorist group engagement in the drug trade. Social Networks, 36, 23–39. https://doi.org/10.1016/j.socnet.2013.04.002\n",
    "Breiger and colleagues use a different method for making sense of the bipart network, but show the value of the bipartite approach.\n",
    "\n",
    "### Dinkelberg, A., O’Sullivan, D. J., Quayle, M., & Maccarron, P. (2021). Detecting opinion-based groups and polarization in survey-based attitude networks and estimating question relevance. Advances in Complex Systems, 24(02), 2150006. https://doi.org/10.1142/S0219525921500065\n",
    "\n",
    "This paper provides an overview of the steps involved in the method, and assesses its performance in synthetic and real-world data. Importantly, it illustrates three different methods of community detection, and outlines a method of identifying appropriate variables to include in the network model.\n",
    "\n",
    "### Dinkelberg, A., O’Reilly, C., MacCarron, P., Maher, P. J., & Quayle, M. (2021). Multidimensional polarization dynamics in US election data in the long term (2012–2020) and in the 2020 election cycle. Analyses of Social Issues and Public Policy, 21(1), 284–311. https://doi.org/10.1111/asap.12278\n",
    "This paper shows how the method can be used to examine polarization in pre-defined groups (i.e. Democrats and Republicans in the U.S.), and visualize identity-related shifts in opinion structure over time.\n",
    "\n",
    "### MacCarron, P., Maher, P. J., & Quayle, M. (2020). Identifying opinion-based groups from survey data: A bipartite network approach. arXiv. http://arxiv.org/abs/2012.11392\n",
    "\n",
    "This preprint outlines the method in more detail, and provides an accessible explanation of the mathematical procedures involved in producing the network, including the Manhattan distance, which is one of the ways in which the attitude similarity is calculated between participants (i.e. the weight of the edges). An updated version of this paper is in progress.\n",
    "\n",
    "### Maher, P. J., MacCarron, P., & Quayle, M. (2020). Mapping public health responses with attitude networks: The emergence of opinion‐based groups in the UK’s early COVID‐19 response phase. British Journal of Social Psychology, 59(3), 641–652. https://doi.org/10.1111/bjso.12396\n",
    "\n",
    "This paper provides an accessible illustration of the method to detect opinion-based groups and understand how polarization can emerge in a rapidly changing context (such as the beginning of the COVID-19 pandemic in the UK). The paper is targeted towards psychology audiences.\n",
    "\n",
    "### McPherson, M., Smith-Lovin, L., & Cook, J. M. (2001). Birds of a Feather: Homophily in Social Networks. Annual Review of Sociology, 27(1), 415–444. https://doi.org/10.1146/annurev.soc.27.1.415\n",
    "This a comprehensive review on homophilly; well known in sociology, but less so in psychology.  \n",
    "\n",
    "\n",
    "### Newman, M. (2018). Networks. Oxford University Press.\n",
    "This is an authoritative text that we recommend as a reference for everything related to complex networks, as they arise in both theory and application.\n",
    "\n",
    "\n",
    "### Quayle, M. (2020). A performative network theory of attitudes [Preprint]. PsyArXiv. https://doi.org/10.31234/osf.io/mh4z8\n",
    "This preprint provides the theoretical underpinnings of the network approach to attitudes. Note: revised version in preparation.\n",
    "\n",
    "## Psychological basis\n",
    "We have also been experimentally testing the hypothesized core psychological mechanisms. Obviously, the idea that people synchronize key features (like attitudes) in groups is already very well established in the social identity approach. However, we have been directly testing our core claim that jointly held attitudes can, themselves, be the basis for identification and perception of affinity:\n",
    "\n",
    "### O’Reilly, C., Maher, P. J., Lüders, A., & Quayle, M. (2022). Sharing is caring: How sharing opinions online can connect people into groups and foster identification. Acta Psychologica, 230, 103751. https://doi.org/10.1016/j.actpsy.2022.103751\n",
    "\n",
    "### Under review; available on request:\n",
    "#### O’Reilly, C., Maher, P. J., Smith, E. M., & Quayle, M.. (In preparation). Moral convictions as important catalysts for strong group identification and activism intentions\n",
    "Results demonstrate that attitude congruence (particularly on moral attitudes) in an intergroup attitude context fosters ingroup and attitude-based identification.\n",
    "\n",
    "#### O’Reilly, C., Maher, P. J., & Quayle, M. (In preparation). The likes that bind: even novel attitude sharing can induce attitude-based identification.\n",
    "We strip away the socio-structural context by using novel attitudes to determine whether attitude congruence alone can be a category cue which can foster identification and whether such group identification mediates the relationship between attitude exposure and attitude polarisation. We find that rven novel attitudes can be self-categorisation cues informing identification and influencing attitude polarisation. Beyond reflecting connection with pre-existing identities, identification can be *based on* shared attitudes; this is potentially important for understanding opinion dynamics online. Attitude congruence fosters stronger identification than non-attitude congruence or minimal groupness (e.g. based on group names or colours).\n",
    "\n"
   ]
  }
 ],
 "metadata": {
  "colab": {
   "provenance": []
  },
  "kernel_info": {
   "name": "ir"
  },
  "kernelspec": {
   "display_name": "R",
   "language": "R",
   "name": "ir"
  },
  "language_info": {
   "codemirror_mode": "r",
   "file_extension": ".r",
   "mimetype": "text/x-r-source",
   "name": "R",
   "pygments_lexer": "r",
   "version": "4.4.0"
  },
  "noteable": {
   "last_delta_id": "e4491af1-8405-4f2a-8c1b-aa529b64fd69",
   "last_transaction_id": "e6ca5040-f39d-4024-967c-aabda476860f"
  },
  "nteract": {
   "version": "noteable@2.9.0"
  },
  "selected_hardware_size": "small"
 },
 "nbformat": 4,
 "nbformat_minor": 5
}
